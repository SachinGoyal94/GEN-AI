{
 "cells": [
  {
   "metadata": {},
   "cell_type": "markdown",
   "source": [
    "Building Gen Ai apps with llm's\n",
    "LLm's are trained on a data for ex The training data for GPT-4o is limited to data from October 2023 or earlier.\n",
    "but to get info after 2023 with GPT 4-o requires tools with which our LLM interacts\n"
   ],
   "id": "d17251c3a26e2f5"
  },
  {
   "metadata": {},
   "cell_type": "code",
   "source": [
    "import os\n",
    "\n",
    "#Arxiv-Research Paper\n",
    "#Tools creation\n",
    "from langchain_community.tools import ArxivQueryRun,WikipediaQueryRun\n",
    "from langchain_community.utilities import ArxivAPIWrapper,WikipediaAPIWrapper\n",
    "from langchain_core.prompts import MessagesPlaceholder\n",
    "from tenacity import retry_if_exception_message"
   ],
   "id": "initial_id",
   "outputs": [],
   "execution_count": null
  },
  {
   "metadata": {},
   "cell_type": "code",
   "source": [
    "wiki_api_wrapper=WikipediaAPIWrapper(top_k_results=1,doc_content_chars_max=250)\n",
    "wiki_tool=WikipediaQueryRun(api_wrapper=wiki_api_wrapper)\n",
    "wiki_tool.name"
   ],
   "id": "a0caaef6e8f0d9b3",
   "outputs": [],
   "execution_count": null
  },
  {
   "metadata": {},
   "cell_type": "code",
   "source": [
    "arxiv_api_wrapper=ArxivAPIWrapper(top_k_results=1,doc_content_chars_max=250)\n",
    "arxiv_tool=ArxivQueryRun(api_wrapper=arxiv_api_wrapper)\n",
    "arxiv_tool.name"
   ],
   "id": "590b6eab2f0162db",
   "outputs": [],
   "execution_count": null
  },
  {
   "metadata": {},
   "cell_type": "code",
   "source": "tools=[wiki_tool,arxiv_tool]",
   "id": "34df45a1ffdcf236",
   "outputs": [],
   "execution_count": null
  },
  {
   "metadata": {},
   "cell_type": "code",
   "source": [
    "#Custom Tool (RAG Tool)\n",
    "import os\n",
    "from dotenv import load_dotenv\n",
    "load_dotenv()\n",
    "from langchain_community.document_loaders import WebBaseLoader\n",
    "from langchain.text_splitter import RecursiveCharacterTextSplitter\n",
    "from langchain_google_genai import GoogleGenerativeAIEmbeddings,ChatGoogleGenerativeAI\n",
    "from langchain_community.vectorstores import FAISS\n",
    "os.environ[\"LANGCHAIN_API_KEY\"]=os.getenv(\"LANGCHAIN_KEY\")\n",
    "os.environ[\"LANGCHAIN_TRACING_V2\"]=\"true\"\n",
    "os.environ[\"GOOGLE_API_KEY\"]=os.getenv(\"GEMINI_KEY\")"
   ],
   "id": "5c7a43318ad252a2",
   "outputs": [],
   "execution_count": null
  },
  {
   "metadata": {},
   "cell_type": "code",
   "source": [
    "docs=WebBaseLoader(\"https://docs.smith.langchain.com/\").load()\n",
    "splitted=RecursiveCharacterTextSplitter(chunk_size=500,chunk_overlap=50).split_documents(docs)\n",
    "db=FAISS.from_documents(splitted,GoogleGenerativeAIEmbeddings(model=\"models/text-embedding-004\"))\n",
    "retriever=db.as_retriever()\n",
    "llm=ChatGoogleGenerativeAI(model=\"gemini-1.5-flash\")"
   ],
   "id": "c13b85d61f019b13",
   "outputs": [],
   "execution_count": null
  },
  {
   "metadata": {},
   "cell_type": "code",
   "source": [
    "from langchain.tools.retriever import create_retriever_tool\n",
    "retriever_tool=create_retriever_tool(retriever,name=\"langsmith_search\",description=\"search any information on langsmith\")\n",
    "retriever_tool"
   ],
   "id": "e78b32d12208751b",
   "outputs": [],
   "execution_count": null
  },
  {
   "metadata": {},
   "cell_type": "code",
   "source": [
    "tools=[arxiv_tool,wiki_tool,retriever_tool]\n",
    "tools"
   ],
   "id": "8ff4db4562951d3d",
   "outputs": [],
   "execution_count": null
  },
  {
   "metadata": {},
   "cell_type": "markdown",
   "source": [
    "hub.pull = “get a reusable chain/prompt/agent template from the Hub ”.\n",
    "\n",
    "it's like github where we can use someone's else code so we don't have to makesomething from scratch\n",
    "\n",
    " Inside, it’s basically:\n",
    "\n",
    "A prompt template that tells your LLM how to act like an agent that can call functions/tools.\n",
    "\n",
    "It includes instructions, formatting, and placeholders for:\n",
    "\n",
    "The system message (“You are a helpful assistant that can use tools…”)\n",
    "\n",
    "The user message (what the user asked)\n",
    "\n",
    "Function call JSON structure (so the LLM knows how to format the function/tool call)"
   ],
   "id": "bf5a980ce0740aad"
  },
  {
   "metadata": {},
   "cell_type": "code",
   "source": [
    "## Prompt Template\n",
    "from langchain import hub\n",
    "prompt=hub.pull(\"hwchase17/openai-functions-agent\")\n",
    "prompt.messages"
   ],
   "id": "9e422e0dead4e7b3",
   "outputs": [],
   "execution_count": null
  },
  {
   "metadata": {},
   "cell_type": "markdown",
   "source": "now for llm to use tool we need agents",
   "id": "20e5460081331ded"
  },
  {
   "metadata": {},
   "cell_type": "code",
   "source": [
    "#Agent\n",
    "from langchain.agents import create_openai_tools_agent\n",
    "agent=create_openai_tools_agent(llm,tools,prompt)\n",
    "agent"
   ],
   "id": "de33bb26ce81cd66",
   "outputs": [],
   "execution_count": null
  },
  {
   "metadata": {},
   "cell_type": "code",
   "source": [
    "#Agent Executor\n",
    "from langchain.agents import AgentExecutor\n",
    "agent_executor=AgentExecutor(agent=agent,tools=tools,verbose=True)#to see the working verbose=True\n",
    "agent_executor"
   ],
   "id": "36ab72c388da8d35",
   "outputs": [],
   "execution_count": null
  },
  {
   "metadata": {},
   "cell_type": "code",
   "source": [
    "agent_executor.invoke({\"input\":\"tell me something about Sachin Tendulkar\"})\n",
    "##this invokes 3 agent executor chain because we gave 3 tools wikipedia arxiv and retriever (for langsmith website)"
   ],
   "id": "a046cf854806b5d9",
   "outputs": [],
   "execution_count": null
  },
  {
   "metadata": {},
   "cell_type": "code",
   "source": "agent_executor.invoke({\"input\":\"tell me something about langsmith\"})",
   "id": "2ccdf4ddc1300aaf",
   "outputs": [],
   "execution_count": null
  },
  {
   "metadata": {},
   "cell_type": "code",
   "source": "agent_executor.invoke({\"input\": \"What's the paper 1706.03762 about?\"})",
   "id": "16eec59a33ef432c",
   "outputs": [],
   "execution_count": null
  }
 ],
 "metadata": {
  "kernelspec": {
   "display_name": "Python 3",
   "language": "python",
   "name": "python3"
  },
  "language_info": {
   "codemirror_mode": {
    "name": "ipython",
    "version": 2
   },
   "file_extension": ".py",
   "mimetype": "text/x-python",
   "name": "python",
   "nbconvert_exporter": "python",
   "pygments_lexer": "ipython2",
   "version": "2.7.6"
  }
 },
 "nbformat": 4,
 "nbformat_minor": 5
}
