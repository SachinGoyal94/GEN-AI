{
 "cells": [
  {
   "metadata": {},
   "cell_type": "markdown",
   "source": [
    "### Build a Simple LLM Application with LCEL(LangChain Expression Language)\n",
    "LangChain Expression Language (LCEL) is an abstraction of some interesting Python concepts into a format that enables a \"minimalist\" code layer for building chains of LangChain components.\n",
    "\n",
    "In this quickstart we'll show you how to build a simple LLM application with LangChain. This application will translate text from English into another language. This is a relatively simple LLM application - it's just a single LLM call plus some prompting. Still, this is a great way to get started with LangChain - a lot of features can be built with just some prompting and an LLM call!\n",
    "\n",
    "After this , you'll have a high level overview of:\n",
    "\n",
    "- Using language models\n",
    "\n",
    "- Using PromptTemplates and OutputParsers\n",
    "\n",
    "- Using LangChain Expression Language (LCEL) to chain components together\n",
    "\n",
    "- Debugging and tracing your application using LangSmith\n",
    "\n",
    "- Deploying your application with LangServe"
   ],
   "id": "c274f6a9172ab8e9"
  },
  {
   "metadata": {
    "ExecuteTime": {
     "end_time": "2025-07-01T10:34:12.558436Z",
     "start_time": "2025-07-01T10:34:12.537403Z"
    }
   },
   "cell_type": "code",
   "source": [
    "import os\n",
    "from dotenv import load_dotenv\n",
    "load_dotenv()\n",
    "\n",
    "os.environ[\"GOOGLE_API_KEY\"]=os.getenv(\"GEMINI_KEY\")\n",
    "#Langchain Tracing\n",
    "os.environ[\"LANGCHAIN_API_KEY\"]=os.getenv(\"LANGCHAIN_KEY\")\n",
    "os.environ[\"LANGCHAIN_TRACING_V2\"]=\"true\"\n",
    "os.environ[\"LANGCHAIN_PROJECT\"]=os.getenv(\"LANGCHAIN_PROJECT\")\n",
    "os.environ[\"GROQ_API_KEY\"]=os.getenv(\"GROQ_KEY\")"
   ],
   "id": "e1560565170ee5ac",
   "outputs": [],
   "execution_count": 1
  },
  {
   "metadata": {
    "ExecuteTime": {
     "end_time": "2025-07-01T10:34:15.693455Z",
     "start_time": "2025-07-01T10:34:13.007118Z"
    }
   },
   "cell_type": "code",
   "source": [
    "from langchain_google_genai import ChatGoogleGenerativeAI\n",
    "from langchain_groq import ChatGroq\n",
    "from langchain_google_genai import ChatGoogleGenerativeAI\n",
    "model=ChatGoogleGenerativeAI(model=\"gemini-1.5-flash\")\n",
    "#model=ChatGroq=(model=\"gemma2-9b-it\")\n",
    "model"
   ],
   "id": "d4c8293a9f9c76c9",
   "outputs": [
    {
     "data": {
      "text/plain": [
       "ChatGoogleGenerativeAI(model='models/gemini-1.5-flash', google_api_key=SecretStr('**********'), client=<google.ai.generativelanguage_v1beta.services.generative_service.client.GenerativeServiceClient object at 0x000001D54B730050>, default_metadata=(), model_kwargs={})"
      ]
     },
     "execution_count": 2,
     "metadata": {},
     "output_type": "execute_result"
    }
   ],
   "execution_count": 2
  },
  {
   "metadata": {
    "ExecuteTime": {
     "end_time": "2025-07-01T10:34:21.899122Z",
     "start_time": "2025-07-01T10:34:15.793097Z"
    }
   },
   "cell_type": "code",
   "source": [
    "from langchain_core.messages import HumanMessage,SystemMessage\n",
    "messages=[\n",
    "    SystemMessage(content=\"Translate the following from English To Hindi and provide alternative also:\"),\n",
    "    HumanMessage(content=\"Hii ,How are you ? I am here to answer all the queries that you have put in your email !! May i know in which mode of communcation you would like to communicate with us. we prefer communication over call coz we would be able to understand your queries in a better way,thanks\")\n",
    "]\n",
    "result=model.invoke(messages)\n",
    "result"
   ],
   "id": "2936a668706ec3ee",
   "outputs": [
    {
     "data": {
      "text/plain": [
       "AIMessage(content='Here are a few translations of the English text into Hindi, offering slightly different nuances:\\n\\n**Option 1 (Formal):**\\n\\nनमस्ते, आप कैसे हैं?  मैं आपके ईमेल में पूछे गए सभी प्रश्नों के उत्तर देने के लिए यहाँ हूँ!! क्या आप हमें बता सकते हैं कि आप किस माध्यम से हमारे साथ संवाद करना चाहेंगे? हम कॉल पर संवाद करना पसंद करते हैं क्योंकि इससे हम आपके प्रश्नों को बेहतर ढंग से समझ पाएँगे, धन्यवाद।\\n\\n*Namaste, aap kaise hain? Main aapke email mein puche gaye sabhi prashnon ke uttar dene ke liye yahan hun!! Kya aap hume bata sakte hain ki aap kis madhyam se hamare saath samvad karna chahenge? Ham call par samvad karna pasand karte hain kyunki isse hum aapke prashnon ko behtar dhang se samajh paenge, dhanyavaad.*\\n\\n\\n**Option 2 (Slightly less formal):**\\n\\nनमस्ते, कैसे हैं आप?  मैं आपके ईमेल के सारे सवालों के जवाब देने आया हूँ!  आप किस तरह से हमसे बात करना चाहेंगे?  हम कॉल पर बात करना ज़्यादा पसंद करेंगे, क्योंकि इससे हम आपके सवाल अच्छे से समझ पाएँगे। धन्यवाद।\\n\\n*Namaste, kaise hain aap? Main aapke email ke sare sawalon ke jawab dene aaya hun! Aap kis tarah se hamse baat karna chahenge? Ham call par baat karna zyada pasand karenge, kyunki isse hum aapke sawal achche se samajh paenge. Dhanyavaad.*\\n\\n\\n**Option 3 (Informal):**\\n\\nहाय, कैसे हो?  तुम्हारे ईमेल के सारे सवालों के जवाब देने के लिए मैं यहाँ हूँ!  तुम किस तरीके से हमसे बात करना चाहोगे?  हम कॉल पे बात करना ज़्यादा पसंद करेंगे, क्योंकि इससे तुम्हारे सवाल अच्छे से समझ आएँगे।  शुक्रिया!\\n\\n*Hi, kaise ho? Tumhare email ke sare sawalon ke jawab dene ke liye main yahan hun! Tum kis tarike se hamse baat karna chahoge? Ham call pe baat karna zyada pasand karenge, kyunki isse tumhare sawal achche se samajh aayenge. Shukriya!*\\n\\n\\nThe choice depends on your relationship with the recipient. Option 1 is suitable for professional communication, Option 2 is a bit more relaxed, and Option 3 is best for informal communication with someone you know well.', additional_kwargs={}, response_metadata={'prompt_feedback': {'block_reason': 0, 'safety_ratings': []}, 'finish_reason': 'STOP', 'model_name': 'gemini-1.5-flash', 'safety_ratings': []}, id='run--6053c06c-3cf5-4e4b-9e7c-d308d306444b-0', usage_metadata={'input_tokens': 71, 'output_tokens': 585, 'total_tokens': 656, 'input_token_details': {'cache_read': 0}})"
      ]
     },
     "execution_count": 3,
     "metadata": {},
     "output_type": "execute_result"
    }
   ],
   "execution_count": 3
  },
  {
   "metadata": {},
   "cell_type": "markdown",
   "source": [
    "Remember every model has it's on way to decide whether the whole output produced will lie in content or not\n",
    "\n",
    "parser always return result.content i.e. content of ai message\n",
    "\n",
    "so when we use groq model it will not give whole output inside content\n",
    "and gemini model put everything inside conent"
   ],
   "id": "2f2d702fe33c042a"
  },
  {
   "metadata": {
    "ExecuteTime": {
     "end_time": "2025-07-01T10:34:22.190331Z",
     "start_time": "2025-07-01T10:34:21.920767Z"
    }
   },
   "cell_type": "code",
   "source": [
    "from langchain_core.output_parsers import StrOutputParser\n",
    "parser=StrOutputParser()\n",
    "parser.invoke(result)"
   ],
   "id": "79b5224871966d76",
   "outputs": [
    {
     "data": {
      "text/plain": [
       "'Here are a few translations of the English text into Hindi, offering slightly different nuances:\\n\\n**Option 1 (Formal):**\\n\\nनमस्ते, आप कैसे हैं?  मैं आपके ईमेल में पूछे गए सभी प्रश्नों के उत्तर देने के लिए यहाँ हूँ!! क्या आप हमें बता सकते हैं कि आप किस माध्यम से हमारे साथ संवाद करना चाहेंगे? हम कॉल पर संवाद करना पसंद करते हैं क्योंकि इससे हम आपके प्रश्नों को बेहतर ढंग से समझ पाएँगे, धन्यवाद।\\n\\n*Namaste, aap kaise hain? Main aapke email mein puche gaye sabhi prashnon ke uttar dene ke liye yahan hun!! Kya aap hume bata sakte hain ki aap kis madhyam se hamare saath samvad karna chahenge? Ham call par samvad karna pasand karte hain kyunki isse hum aapke prashnon ko behtar dhang se samajh paenge, dhanyavaad.*\\n\\n\\n**Option 2 (Slightly less formal):**\\n\\nनमस्ते, कैसे हैं आप?  मैं आपके ईमेल के सारे सवालों के जवाब देने आया हूँ!  आप किस तरह से हमसे बात करना चाहेंगे?  हम कॉल पर बात करना ज़्यादा पसंद करेंगे, क्योंकि इससे हम आपके सवाल अच्छे से समझ पाएँगे। धन्यवाद।\\n\\n*Namaste, kaise hain aap? Main aapke email ke sare sawalon ke jawab dene aaya hun! Aap kis tarah se hamse baat karna chahenge? Ham call par baat karna zyada pasand karenge, kyunki isse hum aapke sawal achche se samajh paenge. Dhanyavaad.*\\n\\n\\n**Option 3 (Informal):**\\n\\nहाय, कैसे हो?  तुम्हारे ईमेल के सारे सवालों के जवाब देने के लिए मैं यहाँ हूँ!  तुम किस तरीके से हमसे बात करना चाहोगे?  हम कॉल पे बात करना ज़्यादा पसंद करेंगे, क्योंकि इससे तुम्हारे सवाल अच्छे से समझ आएँगे।  शुक्रिया!\\n\\n*Hi, kaise ho? Tumhare email ke sare sawalon ke jawab dene ke liye main yahan hun! Tum kis tarike se hamse baat karna chahoge? Ham call pe baat karna zyada pasand karenge, kyunki isse tumhare sawal achche se samajh aayenge. Shukriya!*\\n\\n\\nThe choice depends on your relationship with the recipient. Option 1 is suitable for professional communication, Option 2 is a bit more relaxed, and Option 3 is best for informal communication with someone you know well.'"
      ]
     },
     "execution_count": 4,
     "metadata": {},
     "output_type": "execute_result"
    }
   ],
   "execution_count": 4
  },
  {
   "metadata": {},
   "cell_type": "markdown",
   "source": "Using LCEL to chain the components\n",
   "id": "80695331d9d96c83"
  },
  {
   "metadata": {
    "ExecuteTime": {
     "end_time": "2025-07-01T10:34:26.977777Z",
     "start_time": "2025-07-01T10:34:22.208067Z"
    }
   },
   "cell_type": "code",
   "source": [
    "chain=model|parser\n",
    "chain.invoke(messages)"
   ],
   "id": "52ac8594a75aa24c",
   "outputs": [
    {
     "data": {
      "text/plain": [
       "'Here are a few options for translating \"Hii ,How are you ? I am here to answer all the queries that you have put in your email !! May i know in which mode of communcation you would like to communicate with us. we prefer communication over call coz we would be able to understand your queries in a better way,thanks\" into Hindi, with slightly different nuances:\\n\\n\\n**Option 1 (Formal):**\\n\\nनमस्ते, आप कैसे हैं?  मैं आपके ईमेल में पूछे गए सभी प्रश्नों के उत्तर देने के लिए यहाँ हूँ!! क्या आप हमें बता सकते हैं कि आप किस माध्यम से हमारे साथ संवाद करना चाहेंगे? हम कॉल पर संवाद करना पसंद करते हैं क्योंकि इससे हम आपके प्रश्नों को बेहतर ढंग से समझ पाएँगे, धन्यवाद।\\n\\n*Namaste, aap kaise hain? Main aapke email mein pooche gaye sabhi prashnon ke uttar dene ke liye yahan hoon!! Kya aap hume bata sakte hain ki aap kis madhyam se hamare saath samvad karna chahenge? Ham call par samvad karna pasand karte hain kyunki isse hum aapke prashnon ko behtar dhang se samajh paayenge, dhanyavaad.*\\n\\n\\n**Option 2 (Slightly less formal):**\\n\\nनमस्ते, कैसे हैं आप?  मैं आपके ईमेल के सारे सवालों के जवाब देने के लिए आया हूँ। आप किस तरह से बात करना चाहेंगे?  हमें फ़ोन पर बात करना ज़्यादा अच्छा लगेगा, क्योंकि इससे हम आपके सवाल अच्छे से समझ पाएँगे। शुक्रिया।\\n\\n*Namaste, kaise hain aap? Main aapke email ke sare sawalon ke jawab dene ke liye aaya hoon. Aap kis tarah se baat karna chahenge? Hume phone par baat karna zyada achcha lagega, kyunki isse hum aapke sawal ache se samajh paayenge. Shukriya.*\\n\\n\\n**Option 3 (Informal):**\\n\\nहाय, कैसे हो?  तुम्हारे ईमेल के सारे सवालों के जवाब देने के लिए मैं यहाँ हूँ!  किस तरह से बात करना चाहोगे?  कॉल पे बात करना ज़्यादा बेहतर रहेगा, क्योंकि हम तुम्हारे सवाल अच्छे से समझ पाएँगे। थैंक्स!\\n\\n*Hi, kaise ho? Tumhare email ke sare sawalon ke jawab dene ke liye main yahan hoon! Kis tarah se baat karna chahoge? Call pe baat karna zyada behtar rahega, kyunki hum tumhare sawal ache se samajh paayenge. Thanks!*\\n\\n\\nThe best option depends on your relationship with the recipient. Option 1 is suitable for a professional context, while Option 3 is more appropriate for a casual or friendly interaction. Option 2 falls somewhere in between.'"
      ]
     },
     "execution_count": 5,
     "metadata": {},
     "output_type": "execute_result"
    }
   ],
   "execution_count": 5
  },
  {
   "metadata": {
    "ExecuteTime": {
     "end_time": "2025-07-01T10:34:27.049473Z",
     "start_time": "2025-07-01T10:34:26.998349Z"
    }
   },
   "cell_type": "code",
   "source": [
    "from langchain_core.prompts import ChatPromptTemplate\n",
    "generic_template=\"translate the following into {language}:\"\n",
    "prompt=ChatPromptTemplate.from_messages(\n",
    "    [(\"system\",generic_template),(\"user\",\"{text}\")]\n",
    ")"
   ],
   "id": "5232b7383e5e313b",
   "outputs": [],
   "execution_count": 6
  },
  {
   "metadata": {
    "ExecuteTime": {
     "end_time": "2025-07-01T10:34:27.140459Z",
     "start_time": "2025-07-01T10:34:27.130466Z"
    }
   },
   "cell_type": "code",
   "source": [
    "result=prompt.invoke({\"language\":\"Hindi\",\"text\":\"hi ,Sachin Goyal this side ,it's interesting to learn and build gen ai projects\"})\n",
    "result.to_messages()"
   ],
   "id": "c6b3674952d52101",
   "outputs": [
    {
     "data": {
      "text/plain": [
       "[SystemMessage(content='translate the following into Hindi:', additional_kwargs={}, response_metadata={}),\n",
       " HumanMessage(content=\"hi ,Sachin Goyal this side ,it's interesting to learn and build gen ai projects\", additional_kwargs={}, response_metadata={})]"
      ]
     },
     "execution_count": 7,
     "metadata": {},
     "output_type": "execute_result"
    }
   ],
   "execution_count": 7
  },
  {
   "metadata": {},
   "cell_type": "markdown",
   "source": "Chaining together using Lcel",
   "id": "20f1b1c78ab972bc"
  },
  {
   "metadata": {
    "ExecuteTime": {
     "end_time": "2025-07-01T10:34:28.062414Z",
     "start_time": "2025-07-01T10:34:27.215010Z"
    }
   },
   "cell_type": "code",
   "source": [
    "chain=prompt|model|parser\n",
    "chain.invoke({\"language\":\"Hindi\",\"text\":\"hi ,Sachin Goyal this side ,it's interesting to learn and build gen ai projects\"})"
   ],
   "id": "6e7346423a22a050",
   "outputs": [
    {
     "data": {
      "text/plain": [
       "'नमस्ते, मैं सचिन गोयल हूँ।  जेनरेटिव एआई प्रोजेक्ट्स सीखना और बनाना बहुत दिलचस्प है।'"
      ]
     },
     "execution_count": 8,
     "metadata": {},
     "output_type": "execute_result"
    }
   ],
   "execution_count": 8
  }
 ],
 "metadata": {
  "kernelspec": {
   "display_name": "Python 3",
   "language": "python",
   "name": "python3"
  },
  "language_info": {
   "codemirror_mode": {
    "name": "ipython",
    "version": 2
   },
   "file_extension": ".py",
   "mimetype": "text/x-python",
   "name": "python",
   "nbconvert_exporter": "python",
   "pygments_lexer": "ipython2",
   "version": "2.7.6"
  }
 },
 "nbformat": 4,
 "nbformat_minor": 5
}
