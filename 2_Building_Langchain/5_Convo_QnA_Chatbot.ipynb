{
 "cells": [
  {
   "metadata": {},
   "cell_type": "markdown",
   "source": [
    "### Conversation Q&A Chatbot\n",
    "In many Q&A applications we want to allow the user to have a back-and-forth conversation, meaning the application needs some sort of \"memory\" of past questions and answers, and some logic for incorporating those into its current thinking.\n",
    "\n",
    "In this guide we focus on adding logic for incorporating historical messages. Further details on chat history management is covered in the previous videos.\n",
    "\n",
    "We will cover two approaches:\n",
    "\n",
    "- Chains, in which we always execute a retrieval step;\n",
    "- Agents, in which we give an LLM discretion over whether and how to execute a retrieval step (or multiple steps).\n"
   ],
   "id": "18fdb1a432be92f3"
  },
  {
   "metadata": {},
   "cell_type": "code",
   "source": [
    "import os\n",
    "from dotenv import load_dotenv\n",
    "load_dotenv()\n",
    "\n",
    "from langchain_groq import ChatGroq\n",
    "os.environ[\"GROQ_API_KEY\"]=os.getenv(\"GROQ_KEY\")\n",
    "llm=ChatGroq(model=\"Llama3-8b-8192\")\n",
    "llm"
   ],
   "id": "8ad3407b47876528",
   "outputs": [],
   "execution_count": null
  },
  {
   "metadata": {},
   "cell_type": "code",
   "source": [
    "os.environ[\"HF_TOKEN\"]=os.getenv(\"HF_TOKEN\")\n",
    "from langchain_huggingface import HuggingFaceEmbeddings\n",
    "embeddings=HuggingFaceEmbeddings(model_name=\"all-MiniLM-L6-v2\")"
   ],
   "id": "2c37aa4277d0232f",
   "outputs": [],
   "execution_count": null
  },
  {
   "metadata": {},
   "cell_type": "markdown",
   "source": "create stuff document chain is used for text summarization where it comibnes all the documents first and send to prompt where it get forward to llm",
   "id": "115806d28bc9d458"
  },
  {
   "metadata": {},
   "cell_type": "code",
   "source": [
    "from langchain_chroma import Chroma\n",
    "from langchain_community.document_loaders import WebBaseLoader\n",
    "from langchain_core.prompts import ChatPromptTemplate\n",
    "from langchain_text_splitters import RecursiveCharacterTextSplitter\n",
    "from langchain.chains import create_retrieval_chain\n",
    "from langchain.chains.combine_documents import create_stuff_documents_chain"
   ],
   "id": "f301912cc6a42cf2",
   "outputs": [],
   "execution_count": null
  },
  {
   "metadata": {},
   "cell_type": "code",
   "source": [
    "import bs4\n",
    "loader=WebBaseLoader(web_paths=(\"https://lilianweng.github.io/posts/2023-06-23-agent/\",),\n",
    "                     bs_kwargs=dict(parse_only=bs4.SoupStrainer(class_=(\"post-content\",\"post-title\",\"post-header\") )),)\n",
    "docs=loader.load()\n",
    "docs"
   ],
   "id": "aa11fe8e75df1821",
   "outputs": [],
   "execution_count": null
  },
  {
   "metadata": {},
   "cell_type": "code",
   "source": [
    "text_splitter=RecursiveCharacterTextSplitter(chunk_size=1000,chunk_overlap=200)\n",
    "splits=text_splitter.split_documents(docs)\n",
    "db=Chroma.from_documents(documents=splits,embedding=embeddings)\n",
    "retriever=db.as_retriever()\n",
    "retriever"
   ],
   "id": "5a66f7e8eca72384",
   "outputs": [],
   "execution_count": null
  },
  {
   "metadata": {},
   "cell_type": "code",
   "source": [
    "#prompt template\n",
    "system_prompt=(\n",
    "    \"\"\"\n",
    "\n",
    "    You are an assistant for question-answering tasks.\n",
    "    Use the following pieces of retrieved context to answer\n",
    "    the question. If you don't know the answer, say that you\n",
    "    don't know. Use three sentences maximum and keep the\n",
    "    answer concise.\"\n",
    "    \\n\\n\n",
    "    {context}\n",
    "    \"\"\"\n",
    ")\n",
    "prompt=ChatPromptTemplate.from_messages(\n",
    "    [\n",
    "        (\"system\", system_prompt),\n",
    "        (\"human\",\"{input}\")\n",
    "    ]\n",
    ")\n",
    "prompt"
   ],
   "id": "ff4558ec42508d23",
   "outputs": [],
   "execution_count": null
  },
  {
   "metadata": {},
   "cell_type": "markdown",
   "source": [
    "now upto this\n",
    "\n",
    "-->we have embedded our website content into vector store and also created a retriever\n",
    "\n",
    "-->created a prompt through which a system will tell how the model(or llm) should work\n",
    "   and also provided functionality for input by the user\n",
    "\n",
    "now time to create the chain through which\n",
    "\n",
    "-->input will be taken\n",
    "-->collection of the document chunks reqd and both will be sent to prompt then to llm\n"
   ],
   "id": "f84b7f2718ab53a0"
  },
  {
   "metadata": {},
   "cell_type": "code",
   "source": [
    "ques_ans_chain=create_stuff_documents_chain(llm,prompt) #prompt->llm just sign of function\n",
    "ragchain=create_retrieval_chain(retriever,ques_ans_chain)\n",
    "ragchain"
   ],
   "id": "b974e09f218aabe8",
   "outputs": [],
   "execution_count": null
  },
  {
   "metadata": {},
   "cell_type": "code",
   "source": [
    "response=ragchain.invoke({\"input\":\"what is Self-Refletion\"})\n",
    "response"
   ],
   "id": "b72d2f76a8fed725",
   "outputs": [],
   "execution_count": null
  },
  {
   "metadata": {},
   "cell_type": "code",
   "source": "response['answer']",
   "id": "19bd5b78f80e3917",
   "outputs": [],
   "execution_count": null
  },
  {
   "metadata": {},
   "cell_type": "markdown",
   "source": [
    "###now our llm is working fine but all this is going on without any chat history\n",
    "so again designing a llm with a chat history\n",
    "\n",
    "ADDING CHAT HISTORY\n",
    "\n",
    "now for ex\n",
    "\n",
    "Human who is elon musk\n",
    "\n",
    "Ai    a buisness man and owner of spacex,starlink....\n",
    "\n",
    "Human What is his brother name?\n",
    "\n",
    "now at this point for AI without chat history it's confusing about his brother name\n",
    "\n",
    "so when i say what his name then two things is going on\n",
    "\n",
    "--> firstly chat history is getting save\n",
    "\n",
    "--> using a session id chatbot find the chat then the incoming query from user is internally   re-written for the chatbot w.r.t. history such that chatbot is able to recall everything   and user is just getting a response....\n",
    "    for them this backend is unvisible\n",
    "    now for ai the question after reformulating is \"what is Elonk musk brother's name?"
   ],
   "id": "cc24b09ffcc5615b"
  },
  {
   "metadata": {},
   "cell_type": "code",
   "source": [
    "from langchain.chains import create_history_aware_retriever\n",
    "from langchain_core.prompts import MessagesPlaceholder\n",
    "contextualize_qa_system_prompt=(\n",
    "    \"\"\"\n",
    "    Given a chat history and the latest user question\n",
    "    which might reference context in the chat history,\n",
    "    formulate a standalone question which can be understood\n",
    "    without the chat history. Do NOT answer the question,\n",
    "    just reformulate it if needed and otherwise return it as is.\n",
    "    \"\"\"\n",
    ")\n",
    "contextualize_q_prompt=ChatPromptTemplate.from_messages(\n",
    "    [\n",
    "        (\"system\", contextualize_qa_system_prompt),\n",
    "        MessagesPlaceholder(\"chathistory\"),\n",
    "        (\"human\",\"{input}\")\n",
    "    ]\n",
    ")"
   ],
   "id": "560f42d66b8c753f",
   "outputs": [],
   "execution_count": null
  },
  {
   "metadata": {},
   "cell_type": "markdown",
   "source": [
    "now in prev code we designed how the working will be done\n",
    "\n",
    "now the code of triggering the working of prev code"
   ],
   "id": "38c628cff6451227"
  },
  {
   "metadata": {},
   "cell_type": "code",
   "source": [
    "history_aware_retriever=create_history_aware_retriever(llm,retriever,contextualize_q_prompt)\n",
    "history_aware_retriever\n",
    "\n",
    "## contexalize_q_prompt -> retriever ->llm"
   ],
   "id": "a1f9ab3d2b59d88c",
   "outputs": [],
   "execution_count": null
  },
  {
   "metadata": {},
   "cell_type": "markdown",
   "source": [
    "now chat history along with question reformation is done\n",
    "\n",
    "so designing how every msg sent to AI will get the answer"
   ],
   "id": "1a0e743e6bd8b633"
  },
  {
   "metadata": {},
   "cell_type": "code",
   "source": [
    "## Prompt Template to start the chat\n",
    "system_prompt = (\n",
    "    \"You are an assistant for question-answering tasks. \"\n",
    "    \"Use the following pieces of retrieved context to answer \"\n",
    "    \"the question. If you don't know the answer, say that you \"\n",
    "    \"don't know. Use three sentences maximum and keep the \"\n",
    "    \"answer concise.\"\n",
    "    \"\\n\\n\"\n",
    "    \"{context}\"\n",
    ")\n",
    "\n",
    "qa_prompt = ChatPromptTemplate.from_messages(\n",
    "    [\n",
    "        (\"system\", system_prompt),\n",
    "        MessagesPlaceholder(\"chathistory\"),\n",
    "        (\"human\", \"{input}\"),\n",
    "    ]\n",
    ")"
   ],
   "id": "d79f42d3bbfd644b",
   "outputs": [],
   "execution_count": null
  },
  {
   "metadata": {},
   "cell_type": "markdown",
   "source": [
    "so now finally\n",
    "\n",
    "--> a question asked by user whether a new chat or previous one asking one more ques\n",
    "\n",
    "----> firstly activates history_aware_retre where  if history exists\n",
    "\n",
    "        ques is modified acc to history\n",
    "\n",
    "        retrive of related documents\n",
    "\n",
    "        but this time llm does not generates answer instead\n",
    "\n",
    "        goes for qa_prompt act according to system prompt\n",
    "\n",
    "        then generates answer accordingly\n",
    "\n",
    "        and for history\n",
    "\n",
    "        chat_history.extend([\n",
    "\n",
    "        HumanMessage(content=\"Tell me more about it?\"),\n",
    "\n",
    "        AIMessage(content=response[\"answer\"])\n",
    "\n",
    "])\n"
   ],
   "id": "62dd7f29f6117a1e"
  },
  {
   "metadata": {},
   "cell_type": "code",
   "source": [
    "ques_ans_chain=create_stuff_documents_chain(llm,qa_prompt)\n",
    "ragchain=create_retrieval_chain(history_aware_retriever,ques_ans_chain)"
   ],
   "id": "6345f2534d26e640",
   "outputs": [],
   "execution_count": null
  },
  {
   "metadata": {},
   "cell_type": "code",
   "source": [
    "from langchain_core.messages import AIMessage,HumanMessage\n",
    "chat_history=[]\n",
    "q1=\"What is Self-Refletion?\"\n",
    "r1=ragchain.invoke({\"input\":q1,\"chathistory\":chat_history})\n",
    "print(r1[\"answer\"])\n",
    "\n",
    "chat_history.extend(\n",
    "    [\n",
    "        HumanMessage(content=q1),\n",
    "        AIMessage(content=r1['answer'])\n",
    "    ]\n",
    ")\n",
    "q2=\"what are we even talking about? \"\n",
    "r2=ragchain.invoke({\"input\":q2,\"chathistory\":chat_history})\n",
    "print(r2[\"answer\"])"
   ],
   "id": "ff122d45905b21dd",
   "outputs": [],
   "execution_count": null
  },
  {
   "metadata": {},
   "cell_type": "code",
   "source": "chat_history",
   "id": "71dff4ae204745aa",
   "outputs": [],
   "execution_count": null
  },
  {
   "metadata": {},
   "cell_type": "markdown",
   "source": [
    "Now upto this we have built a working chatbot with history and we were doing the saving of chat history mannualy\n",
    "\n",
    "\n",
    "Now let's design a chatbot history working just by changing the way of saving history only"
   ],
   "id": "64615cc0be7a1a01"
  },
  {
   "metadata": {},
   "cell_type": "code",
   "source": [
    "from langchain_community.chat_message_histories import ChatMessageHistory\n",
    "from langchain_core.chat_history import BaseChatMessageHistory\n",
    "from langchain_core.runnables.history import RunnableWithMessageHistory\n",
    "\n",
    "store = {}\n",
    "\n",
    "\n",
    "def get_session_history(session_id: str) -> BaseChatMessageHistory:\n",
    "    if session_id not in store:\n",
    "        store[session_id] = ChatMessageHistory()\n",
    "    return store[session_id]\n",
    "\n",
    "#just a function signature it first get history then perform ragchain\n",
    "conversational_rag_chain = RunnableWithMessageHistory(\n",
    "    ragchain,                                          ## see working is same\n",
    "    get_session_history,\n",
    "    input_messages_key=\"input\",\n",
    "    history_messages_key=\"chathistory\",\n",
    "    output_messages_key=\"answer\",\n",
    ")"
   ],
   "id": "5d63e53dc29372e",
   "outputs": [],
   "execution_count": null
  },
  {
   "metadata": {},
   "cell_type": "code",
   "source": [
    "response=conversational_rag_chain.invoke({\"input\":\"what is Task Decomposition?\"},config={\"configurable\":{\"session_id\":\"abc123\"}})\n",
    "response[\"answer\"]"
   ],
   "id": "6bc7fa28efa17095",
   "outputs": [],
   "execution_count": null
  },
  {
   "metadata": {},
   "cell_type": "code",
   "source": "store",
   "id": "1d0fd9dc2fd17c",
   "outputs": [],
   "execution_count": null
  },
  {
   "metadata": {},
   "cell_type": "code",
   "source": [
    "response=conversational_rag_chain.invoke({\"input\":\"what are common techniques to do it?\"},config={\"configurable\":{\"session_id\":\"abc123\"}})\n",
    "response[\"answer\"]"
   ],
   "id": "726723929d030223",
   "outputs": [],
   "execution_count": null
  },
  {
   "metadata": {},
   "cell_type": "code",
   "source": "store",
   "id": "ce4eaa663cc587d2",
   "outputs": [],
   "execution_count": null
  },
  {
   "metadata": {},
   "cell_type": "code",
   "source": [
    "for session_id, history in store.items():\n",
    "    print(f\"Session ID: {session_id}\")\n",
    "    for msg in history.messages:\n",
    "        if isinstance(msg, HumanMessage):\n",
    "            print(\"Q:\", msg.content)\n",
    "        elif isinstance(msg, AIMessage):\n",
    "            print(\"A:\", msg.content)\n"
   ],
   "id": "60583d7c832845d4",
   "outputs": [],
   "execution_count": null
  }
 ],
 "metadata": {
  "kernelspec": {
   "display_name": "Python 3",
   "language": "python",
   "name": "python3"
  },
  "language_info": {
   "codemirror_mode": {
    "name": "ipython",
    "version": 2
   },
   "file_extension": ".py",
   "mimetype": "text/x-python",
   "name": "python",
   "nbconvert_exporter": "python",
   "pygments_lexer": "ipython2",
   "version": "2.7.6"
  }
 },
 "nbformat": 4,
 "nbformat_minor": 5
}
