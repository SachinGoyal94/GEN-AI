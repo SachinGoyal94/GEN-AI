{
 "cells": [
  {
   "metadata": {},
   "cell_type": "markdown",
   "source": [
    "EMBEDDING TECHNIQUES\n",
    "\n",
    "To Convert texts into vectors"
   ],
   "id": "923746de0c47a87c"
  },
  {
   "metadata": {},
   "cell_type": "code",
   "source": [
    "import os\n",
    "from dotenv import load_dotenv\n",
    "load_dotenv()"
   ],
   "id": "29c621be89728d4c",
   "outputs": [],
   "execution_count": null
  },
  {
   "metadata": {},
   "cell_type": "code",
   "source": "os.environ[\"GOOGLE_API_KEY\"]=os.getenv(\"GEMINI_KEY\")",
   "id": "de82b12bf049bc2f",
   "outputs": [],
   "execution_count": null
  },
  {
   "metadata": {},
   "cell_type": "code",
   "source": [
    "from langchain_google_genai import GoogleGenerativeAIEmbeddings\n",
    "embeddings=GoogleGenerativeAIEmbeddings(model=\"models/embedding-001\")\n",
    "embeddings"
   ],
   "id": "2aa8209b95f360",
   "outputs": [],
   "execution_count": null
  },
  {
   "metadata": {},
   "cell_type": "markdown",
   "source": [
    "the below query   (embeddings.embed_query(text)) generate a vector\n",
    "and output the vectors as [ values ] of dimension 3072 or whatever model used above"
   ],
   "id": "1fe5a6f98c926884"
  },
  {
   "metadata": {},
   "cell_type": "code",
   "source": [
    "text=\"this is an example of Google Gemini Embedding\"\n",
    "embedded_vector=embeddings.embed_query(text)\n",
    "embedded_vector"
   ],
   "id": "6776fa3e5ae55678",
   "outputs": [],
   "execution_count": null
  },
  {
   "metadata": {},
   "cell_type": "code",
   "source": "len(embedded_vector)# dimension of generated vector",
   "id": "7ed8c11b62218981",
   "outputs": [],
   "execution_count": null
  },
  {
   "metadata": {},
   "cell_type": "markdown",
   "source": [
    "personalized dimensions for ex 1024 can be done like for openai give\n",
    "\n",
    "embeddings=GoogleGenerativeAIEmbeddings(model=\"models/gemini-embedding-exp-03-07\",dimensions=1024)\n"
   ],
   "id": "ce7757005a93efd"
  },
  {
   "metadata": {},
   "cell_type": "markdown",
   "source": "Embedding + Vectore store DB\n",
   "id": "bd032d12dfcba725"
  },
  {
   "metadata": {},
   "cell_type": "code",
   "source": [
    "#loader\n",
    "from langchain_community.document_loaders import TextLoader\n",
    "loader=TextLoader('speech.txt')\n",
    "docs=loader.load()\n",
    "docs"
   ],
   "id": "6ccf00c813572f25",
   "outputs": [],
   "execution_count": null
  },
  {
   "metadata": {},
   "cell_type": "code",
   "source": [
    "#splitter\n",
    "from langchain.text_splitter import RecursiveCharacterTextSplitter\n",
    "splitter=RecursiveCharacterTextSplitter(chunk_size=30,chunk_overlap=3)\n",
    "splitted=splitter.split_documents(docs)\n",
    "splitted"
   ],
   "id": "552a0b735925418",
   "outputs": [],
   "execution_count": null
  },
  {
   "metadata": {},
   "cell_type": "code",
   "source": [
    "#vector embeddings and vector store db\n",
    "#by directly embedding list of documents\n",
    "from langchain_community.vectorstores import Chroma\n",
    "db=Chroma.from_documents(splitted,embeddings)\n",
    "db"
   ],
   "id": "543c13aedb04bb7a",
   "outputs": [],
   "execution_count": null
  },
  {
   "metadata": {},
   "cell_type": "code",
   "source": [
    "query=\"Gen Ai is a trending field now a days\"\n",
    "retireved_results=db.similarity_search(query)\n",
    "retireved_results"
   ],
   "id": "dd0cb2e13f3e0641",
   "outputs": [],
   "execution_count": null
  },
  {
   "metadata": {},
   "cell_type": "code",
   "source": [
    "#or to see scores also\n",
    "retireved_results=db.similarity_search_with_score(query)\n",
    "retireved_results"
   ],
   "id": "fb296f30636f77df",
   "outputs": [],
   "execution_count": null
  },
  {
   "metadata": {},
   "cell_type": "markdown",
   "source": [
    "What Happens Behind the Scenes:\n",
    "\n",
    "Step\t        Action\t                                    Result\n",
    "\n",
    "1️⃣\tembed_query(query) is called internally\t                [0.71, 0.35, 0.89, ...]\n",
    "\n",
    "2️⃣\tChroma compares this vector to all stored vectors       Similarity scores calculated\n",
    "    using cosine similarity                                 (or Euclidean distance) to find the                                                            chunks that are closest in meaning, not                                                        just literal word matches.\n",
    "\n",
    "3️⃣\tTop k (default 4) most similar vectors are returned\t    retrieved_results list is populated\n",
    "\n",
    "for indepth knowledge check next files"
   ],
   "id": "6dfce1f3035269"
  }
 ],
 "metadata": {
  "kernelspec": {
   "display_name": "Python 3",
   "language": "python",
   "name": "python3"
  },
  "language_info": {
   "codemirror_mode": {
    "name": "ipython",
    "version": 2
   },
   "file_extension": ".py",
   "mimetype": "text/x-python",
   "name": "python",
   "nbconvert_exporter": "python",
   "pygments_lexer": "ipython2",
   "version": "2.7.6"
  }
 },
 "nbformat": 4,
 "nbformat_minor": 5
}
