{
 "cells": [
  {
   "metadata": {},
   "cell_type": "markdown",
   "source": [
    "EMBEDDING TECHNIQUES\n",
    "\n",
    "To Convert texts into vectors"
   ],
   "id": "923746de0c47a87c"
  },
  {
   "metadata": {
    "ExecuteTime": {
     "end_time": "2025-06-26T11:27:19.468205Z",
     "start_time": "2025-06-26T11:27:19.448237Z"
    }
   },
   "cell_type": "code",
   "source": [
    "import os\n",
    "from dotenv import load_dotenv\n",
    "load_dotenv()"
   ],
   "id": "29c621be89728d4c",
   "outputs": [
    {
     "data": {
      "text/plain": [
       "True"
      ]
     },
     "execution_count": 1,
     "metadata": {},
     "output_type": "execute_result"
    }
   ],
   "execution_count": 1
  },
  {
   "metadata": {},
   "cell_type": "code",
   "source": "os.environ[\"GOOGLE_API_KEY\"]=os.getenv(\"GEMINI_KEY\")",
   "id": "de82b12bf049bc2f",
   "outputs": [],
   "execution_count": null
  },
  {
   "metadata": {},
   "cell_type": "code",
   "source": [
    "from langchain_google_genai import GoogleGenerativeAIEmbeddings\n",
    "embeddings=GoogleGenerativeAIEmbeddings(model=\"models/embedding-001\")\n",
    "embeddings"
   ],
   "id": "2aa8209b95f360",
   "outputs": [],
   "execution_count": null
  },
  {
   "metadata": {},
   "cell_type": "markdown",
   "source": [
    "the below query   (embeddings.embed_query(text)) generate a vector\n",
    "and output the vectors as [ values ] of dimension 3072 or whatever model used above"
   ],
   "id": "1fe5a6f98c926884"
  },
  {
   "metadata": {},
   "cell_type": "code",
   "source": [
    "text=\"this is an example of Google Gemini Embedding\"\n",
    "query_result=embeddings.embed_query(text)\n",
    "query_result"
   ],
   "id": "6776fa3e5ae55678",
   "outputs": [],
   "execution_count": null
  },
  {
   "metadata": {},
   "cell_type": "code",
   "source": "len(query_result) # dimension of generated vector",
   "id": "7ed8c11b62218981",
   "outputs": [],
   "execution_count": null
  },
  {
   "metadata": {},
   "cell_type": "markdown",
   "source": [
    "personalized dimensions for ex 1024 can be done like for openai give\n",
    "\n",
    "embeddings=GoogleGenerativeAIEmbeddings(model=\"models/gemini-embedding-exp-03-07\",dimensions=1024)\n"
   ],
   "id": "ce7757005a93efd"
  },
  {
   "metadata": {},
   "cell_type": "markdown",
   "source": "Embedding + Vectore store DB\n",
   "id": "bd032d12dfcba725"
  },
  {
   "metadata": {},
   "cell_type": "code",
   "source": [
    "from langchain_community.document_loaders import TextLoader\n",
    "loader=TextLoader('speech.txt')\n",
    "docs=loader.load()\n",
    "docs"
   ],
   "id": "6ccf00c813572f25",
   "outputs": [],
   "execution_count": null
  },
  {
   "metadata": {},
   "cell_type": "code",
   "source": [
    "#splitter\n",
    "from langchain.text_splitter import RecursiveCharacterTextSplitter\n",
    "splitter=RecursiveCharacterTextSplitter(chunk_size=30,chunk_overlap=3)\n",
    "splitted=splitter.split_documents(docs)\n",
    "splitted"
   ],
   "id": "552a0b735925418",
   "outputs": [],
   "execution_count": null
  },
  {
   "metadata": {},
   "cell_type": "code",
   "source": [
    "#vector embeddings and vector store db\n",
    "from langchain_community.vectorstores import Chroma\n",
    "\n",
    "db=Chroma.from_documents(splitted,embeddings)\n",
    "db"
   ],
   "id": "543c13aedb04bb7a",
   "outputs": [],
   "execution_count": null
  },
  {
   "metadata": {},
   "cell_type": "code",
   "source": [
    "query=\"Gen Ai is a trending field now a days\"\n",
    "retireved_results=db.similarity_search(query)\n",
    "retireved_results"
   ],
   "id": "e0b8fe867fbe526c",
   "outputs": [],
   "execution_count": null
  }
 ],
 "metadata": {
  "kernelspec": {
   "display_name": "Python 3",
   "language": "python",
   "name": "python3"
  },
  "language_info": {
   "codemirror_mode": {
    "name": "ipython",
    "version": 2
   },
   "file_extension": ".py",
   "mimetype": "text/x-python",
   "name": "python",
   "nbconvert_exporter": "python",
   "pygments_lexer": "ipython2",
   "version": "2.7.6"
  }
 },
 "nbformat": 4,
 "nbformat_minor": 5
}
