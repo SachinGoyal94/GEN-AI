{
 "cells": [
  {
   "cell_type": "code",
   "id": "initial_id",
   "metadata": {
    "collapsed": true,
    "ExecuteTime": {
     "end_time": "2025-07-02T16:50:59.590385Z",
     "start_time": "2025-07-02T16:50:59.510309Z"
    }
   },
   "source": [
    "import os\n",
    "from dotenv import load_dotenv\n",
    "from jupyterlab.semver import replace_tilde\n",
    "\n",
    "load_dotenv()\n",
    "from langchain_google_genai import ChatGoogleGenerativeAI\n",
    "os.environ[\"GOOGLE_API_KEY\"] = os.getenv(\"GEMINI_KEY\")\n",
    "os.environ[\"HF_API_KEY\"] = os.getenv(\"HF_TOKEN\")"
   ],
   "outputs": [],
   "execution_count": 90
  },
  {
   "metadata": {
    "ExecuteTime": {
     "end_time": "2025-07-02T16:57:15.903125Z",
     "start_time": "2025-07-02T16:57:15.503349Z"
    }
   },
   "cell_type": "code",
   "source": [
    "from langchain_core.documents import Document\n",
    "\n",
    "documents = [\n",
    "    Document(page_content=\"Dogs are loyal and friendly, making them popular family pets and needs care.\", metadata={\"source\": \"mammal-pets-doc\"}),\n",
    "    Document(page_content=\"Cats are independent and love quiet spaces to nap and needs minimum care.\", metadata={\"source\": \"mammal-pets-doc\"}),\n",
    "    Document(page_content=\"Goldfish are easy to care for and ideal for beginners.\", metadata={\"source\": \"fish-pets-doc\"}),\n",
    "    Document(page_content=\"Parrots can mimic human speech and enjoy social interaction.\", metadata={\"source\": \"bird-pets-doc\"}),\n",
    "    Document(page_content=\"Rabbits need spacious hutches and daily playtime.\", metadata={\"source\": \"mammal-pets-doc\"}),\n",
    "    Document(page_content=\"Hamsters are small, nocturnal pets that enjoy tunnels.\", metadata={\"source\": \"mammal-pets-doc\"}),\n",
    "    Document(page_content=\"Guinea pigs are gentle rodents that thrive in pairs and easy to care.\", metadata={\"source\": \"mammal-pets-doc\"}),\n",
    "    Document(page_content=\"Budgerigars are colorful parrots that can learn words.\", metadata={\"source\": \"bird-pets-doc\"}),\n",
    "    Document(page_content=\"Betta fish are vibrant and prefer living alone.\", metadata={\"source\": \"fish-pets-doc\"}),\n",
    "    Document(page_content=\"Canaries are songbirds known for their cheerful tunes.\", metadata={\"source\": \"bird-pets-doc\"}),\n",
    "    Document(page_content=\"Turtles need a warm tank with both land and water areas and are to care.\", metadata={\"source\": \"reptile-pets-doc\"}),\n",
    "    Document(page_content=\"Ferrets are playful pets that need lots of supervision.\", metadata={\"source\": \"mammal-pets-doc\"}),\n",
    "    Document(page_content=\"Hedgehogs are shy creatures that enjoy exploring at night.\", metadata={\"source\": \"mammal-pets-doc\"}),\n",
    "    Document(page_content=\"Iguanas need a large, warm habitat with UV lighting.\", metadata={\"source\": \"reptile-pets-doc\"}),\n",
    "    Document(page_content=\"Snakes can be calm pets but require secure enclosures.\", metadata={\"source\": \"reptile-pets-doc\"}),\n",
    "    Document(page_content=\"Hermit crabs live in shells and need humid environments.\", metadata={\"source\": \"crustacean-pets-doc\"}),\n",
    "    Document(page_content=\"Chinchillas have soft fur and need dust baths.\", metadata={\"source\": \"mammal-pets-doc\"}),\n",
    "    Document(page_content=\"Cockatiels are affectionate parrots with crested heads.\", metadata={\"source\": \"bird-pets-doc\"}),\n",
    "    Document(page_content=\"Tarantulas are low-maintenance but not cuddly pets.\", metadata={\"source\": \"arachnid-pets-doc\"}),\n",
    "    Document(page_content=\"Geckos are friendly reptiles that enjoy climbing.\", metadata={\"source\": \"reptile-pets-doc\"}),\n",
    "    Document(page_content=\"Axolotls are unique amphibians that live entirely underwater.\", metadata={\"source\": \"amphibian-pets-doc\"}),\n",
    "    Document(page_content=\"Lovebirds are small parrots that bond strongly with owners and are easy to care.\", metadata={\"source\": \"bird-pets-doc\"}),\n",
    "    Document(page_content=\"Sugar gliders are nocturnal gliding marsupials.\", metadata={\"source\": \"mammal-pets-doc\"}),\n",
    "    Document(page_content=\"Finches are tiny birds that live happily in groups.\", metadata={\"source\": \"bird-pets-doc\"}),\n",
    "    Document(page_content=\"Pythons can grow large and need experienced keepers.\", metadata={\"source\": \"reptile-pets-doc\"}),\n",
    "    Document(page_content=\"Koi fish are ornamental pond fish loved for their colors.\", metadata={\"source\": \"fish-pets-doc\"}),\n",
    "    Document(page_content=\"Degu are social rodents that enjoy chewing and climbing.\", metadata={\"source\": \"mammal-pets-doc\"}),\n",
    "    Document(page_content=\"Box turtles can live decades with proper care.\", metadata={\"source\": \"reptile-pets-doc\"}),\n",
    "    Document(page_content=\"Macaws are large parrots with bright plumage.\", metadata={\"source\": \"bird-pets-doc\"}),\n",
    "    Document(page_content=\"Salamanders thrive in moist habitats with hiding spots.\", metadata={\"source\": \"amphibian-pets-doc\"}),\n",
    "]\n"
   ],
   "id": "f74ebaddf1ca3c1d",
   "outputs": [],
   "execution_count": 106
  },
  {
   "metadata": {
    "ExecuteTime": {
     "end_time": "2025-07-02T16:55:27.951696Z",
     "start_time": "2025-07-02T16:55:27.800660Z"
    }
   },
   "cell_type": "code",
   "source": [
    "llm=ChatGoogleGenerativeAI(model=\"gemini-1.5-flash\")\n",
    "llm"
   ],
   "id": "27dbc10c6492897c",
   "outputs": [
    {
     "data": {
      "text/plain": [
       "ChatGoogleGenerativeAI(model='models/gemini-1.5-flash', google_api_key=SecretStr('**********'), client=<google.ai.generativelanguage_v1beta.services.generative_service.client.GenerativeServiceClient object at 0x0000022D103EDD00>, default_metadata=(), model_kwargs={})"
      ]
     },
     "execution_count": 98,
     "metadata": {},
     "output_type": "execute_result"
    }
   ],
   "execution_count": 98
  },
  {
   "metadata": {
    "ExecuteTime": {
     "end_time": "2025-07-02T16:57:57.766645Z",
     "start_time": "2025-07-02T16:57:57.109327Z"
    }
   },
   "cell_type": "code",
   "source": [
    "from langchain_ollama import OllamaEmbeddings\n",
    "embeddings=OllamaEmbeddings(model=\"all-MiniLM\")\n",
    "embeddings"
   ],
   "id": "fa499b80fb75b560",
   "outputs": [
    {
     "data": {
      "text/plain": [
       "OllamaEmbeddings(model='all-MiniLM', base_url=None, client_kwargs={}, async_client_kwargs={}, sync_client_kwargs={}, mirostat=None, mirostat_eta=None, mirostat_tau=None, num_ctx=None, num_gpu=None, keep_alive=None, num_thread=None, repeat_last_n=None, repeat_penalty=None, temperature=None, stop=None, tfs_z=None, top_k=None, top_p=None)"
      ]
     },
     "execution_count": 110,
     "metadata": {},
     "output_type": "execute_result"
    }
   ],
   "execution_count": 110
  },
  {
   "metadata": {
    "ExecuteTime": {
     "end_time": "2025-07-02T16:58:04.783221Z",
     "start_time": "2025-07-02T16:58:00.758529Z"
    }
   },
   "cell_type": "code",
   "source": [
    "from langchain_community.vectorstores import Chroma\n",
    "db=Chroma.from_documents(documents,embeddings)\n",
    "db"
   ],
   "id": "362aea3633256501",
   "outputs": [
    {
     "data": {
      "text/plain": [
       "<langchain_community.vectorstores.chroma.Chroma at 0x22d0f754410>"
      ]
     },
     "execution_count": 111,
     "metadata": {},
     "output_type": "execute_result"
    }
   ],
   "execution_count": 111
  },
  {
   "metadata": {
    "ExecuteTime": {
     "end_time": "2025-07-02T16:58:21.009285Z",
     "start_time": "2025-07-02T16:58:20.950719Z"
    }
   },
   "cell_type": "code",
   "source": [
    "result=db.similarity_search(\"easy to care\")\n",
    "result"
   ],
   "id": "3563f545a15cf349",
   "outputs": [
    {
     "data": {
      "text/plain": [
       "[Document(metadata={'source': 'fish-pets-doc'}, page_content='Goldfish are easy to care for and ideal for beginners.'),\n",
       " Document(metadata={'source': 'fish-pets-doc'}, page_content='Goldfish are easy to care for and ideal for beginners.'),\n",
       " Document(metadata={'source': 'fish-pets-doc'}, page_content='Goldfish are easy to care for and ideal for beginners.'),\n",
       " Document(metadata={'source': 'fish-pets-doc'}, page_content='Goldfish are easy to care for and ideal for beginners.')]"
      ]
     },
     "execution_count": 120,
     "metadata": {},
     "output_type": "execute_result"
    }
   ],
   "execution_count": 120
  },
  {
   "metadata": {},
   "cell_type": "markdown",
   "source": [
    "await is used with async functions (coroutines) that do I/O operations (like database queries, API calls) non-blocking, so your app can do other things while waiting for the response.\n",
    "\n",
    "asimilarity_search is just the asynchronous version of similarity_search\n",
    "\n",
    "similarity_search(query: str) → sync\n",
    "\n",
    "asimilarity_search(query: str) → async"
   ],
   "id": "495860199b2a07fc"
  },
  {
   "metadata": {
    "ExecuteTime": {
     "end_time": "2025-07-02T16:58:43.863593Z",
     "start_time": "2025-07-02T16:58:43.806680Z"
    }
   },
   "cell_type": "code",
   "source": [
    "result=await db.asimilarity_search_with_score(\"easy to care\",k=2)\n",
    "result"
   ],
   "id": "d8ad43a51a7c6816",
   "outputs": [
    {
     "data": {
      "text/plain": [
       "[(Document(metadata={'source': 'fish-pets-doc'}, page_content='Goldfish are easy to care for and ideal for beginners.'),\n",
       "  1.323835849761963),\n",
       " (Document(metadata={'source': 'fish-pets-doc'}, page_content='Goldfish are easy to care for and ideal for beginners.'),\n",
       "  1.323835849761963)]"
      ]
     },
     "execution_count": 124,
     "metadata": {},
     "output_type": "execute_result"
    }
   ],
   "execution_count": 124
  },
  {
   "metadata": {},
   "cell_type": "markdown",
   "source": [
    "### Retrievers\n",
    "LangChain VectorStore objects do not subclass Runnable, and so cannot immediately be integrated into LangChain Expression Language chains.\n",
    "\n",
    "LangChain Retrievers are Runnables, so they implement a standard set of methods (e.g., synchronous and asynchronous invoke and batch operations) and are designed to be incorporated in LCEL chains.\n",
    "\n",
    "We can create a simple version of this ourselves, without subclassing Retriever. If we choose what method we wish to use to retrieve documents, we can create a runnable easily. Below we will build one around the similarity_search method:"
   ],
   "id": "4b4b91d887724ae"
  },
  {
   "metadata": {},
   "cell_type": "markdown",
   "source": "Although don't use this method",
   "id": "ab3978f5487a2d88"
  },
  {
   "metadata": {
    "ExecuteTime": {
     "end_time": "2025-07-02T17:12:08.987067Z",
     "start_time": "2025-07-02T17:12:05.010575Z"
    }
   },
   "cell_type": "code",
   "source": [
    "from typing import List\n",
    "from langchain_core.runnables import RunnableLambda\n",
    "retriever=RunnableLambda(db.similarity_search).bind(k=1)\n",
    "retriever.batch([\"easy to care\",\"cat\"])"
   ],
   "id": "43c0de58b42e8ac",
   "outputs": [
    {
     "data": {
      "text/plain": [
       "[[Document(metadata={'source': 'fish-pets-doc'}, page_content='Goldfish are easy to care for and ideal for beginners.')],\n",
       " [Document(metadata={'source': 'mammal-pets-doc'}, page_content='Cats are independent pets that often enjoy their own space.')]]"
      ]
     },
     "execution_count": 125,
     "metadata": {},
     "output_type": "execute_result"
    }
   ],
   "execution_count": 125
  },
  {
   "metadata": {},
   "cell_type": "markdown",
   "source": "Use this",
   "id": "2c874dcc741c0925"
  },
  {
   "metadata": {
    "ExecuteTime": {
     "end_time": "2025-07-02T17:14:22.235485Z",
     "start_time": "2025-07-02T17:14:20.072509Z"
    }
   },
   "cell_type": "code",
   "source": [
    "retriever=db.as_retriever(search_type=\"similarity\",search_kwargs={\"k\":1})\n",
    "retriever.batch([\"easy to care\",\"cat\"])"
   ],
   "id": "20e8f041682f98f5",
   "outputs": [
    {
     "data": {
      "text/plain": [
       "[[Document(metadata={'source': 'fish-pets-doc'}, page_content='Goldfish are easy to care for and ideal for beginners.')],\n",
       " [Document(metadata={'source': 'mammal-pets-doc'}, page_content='Cats are independent pets that often enjoy their own space.')]]"
      ]
     },
     "execution_count": 127,
     "metadata": {},
     "output_type": "execute_result"
    }
   ],
   "execution_count": 127
  },
  {
   "metadata": {},
   "cell_type": "markdown",
   "source": [
    "So when you run .invoke():\n",
    "\n",
    "Input → \"tell me about dogs\"\n",
    "\n",
    "RunnablePassthrough() → passes \"tell me about dogs\" as {question}\n",
    "\n",
    "retriever → fetches relevant docs for \"tell me about dogs\" → {context}\n",
    "\n",
    "prompt → fills template with {question} and {context}\n",
    "\n",
    "llm → gets the final prompt → returns the answer."
   ],
   "id": "8c5292c7576ce3e4"
  },
  {
   "metadata": {
    "ExecuteTime": {
     "end_time": "2025-07-02T17:49:11.430994Z",
     "start_time": "2025-07-02T17:49:10.659935Z"
    }
   },
   "cell_type": "code",
   "source": [
    "from langchain_core.prompts import ChatPromptTemplate\n",
    "from langchain_core.runnables import RunnablePassthrough\n",
    "message =\"\"\"\n",
    "Answer the question from the context provided only\n",
    "{question}\n",
    "\n",
    "Context:\n",
    "{context}\n",
    "\"\"\"\n",
    "prompt=ChatPromptTemplate.from_messages([\"human\",message]) #treat as if human has asked\n",
    "rag_chain={\"context\":retriever,\"question\":RunnablePassthrough()}|prompt|llm\n",
    "response=rag_chain.invoke(\"tell me something about dogs\")\n",
    "response\n",
    "\n",
    "\n",
    "\n"
   ],
   "id": "f1d74d83503fe19b",
   "outputs": [
    {
     "data": {
      "text/plain": [
       "AIMessage(content='Dogs are great companions, known for their loyalty and friendliness.', additional_kwargs={}, response_metadata={'prompt_feedback': {'block_reason': 0, 'safety_ratings': []}, 'finish_reason': 'STOP', 'model_name': 'gemini-1.5-flash', 'safety_ratings': []}, id='run--f1c45824-8a0c-4b6e-a77b-6e6d053c85f2-0', usage_metadata={'input_tokens': 53, 'output_tokens': 13, 'total_tokens': 66, 'input_token_details': {'cache_read': 0}})"
      ]
     },
     "execution_count": 141,
     "metadata": {},
     "output_type": "execute_result"
    }
   ],
   "execution_count": 141
  }
 ],
 "metadata": {
  "kernelspec": {
   "display_name": "Python 3",
   "language": "python",
   "name": "python3"
  },
  "language_info": {
   "codemirror_mode": {
    "name": "ipython",
    "version": 2
   },
   "file_extension": ".py",
   "mimetype": "text/x-python",
   "name": "python",
   "nbconvert_exporter": "python",
   "pygments_lexer": "ipython2",
   "version": "2.7.6"
  }
 },
 "nbformat": 4,
 "nbformat_minor": 5
}
