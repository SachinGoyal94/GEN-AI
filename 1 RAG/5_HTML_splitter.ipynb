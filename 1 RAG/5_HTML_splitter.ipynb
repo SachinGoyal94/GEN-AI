{
 "cells": [
  {
   "metadata": {},
   "cell_type": "markdown",
   "source": [
    "##### How to split by HTML header\n",
    "HTMLHeaderTextSplitter is a \"structure-aware\" chunker that splits text at the HTML element level and adds metadata for each header \"relevant\" to any given chunk. It can return chunks element by element or combine elements with the same metadata, with the objectives of (a) keeping related text grouped (more or less) semantically and (b) preserving context-rich information encoded in document structures. It can be used with other text splitters as part of a chunking pipeline."
   ],
   "id": "5a04d8fdeb4e7b76"
  },
  {
   "metadata": {
    "ExecuteTime": {
     "end_time": "2025-06-25T11:54:35.031668Z",
     "start_time": "2025-06-25T11:54:34.345854Z"
    }
   },
   "cell_type": "code",
   "source": [
    "from langchain.text_splitter import HTMLHeaderTextSplitter\n",
    "htmlstring=\"\"\"\n",
    "<!DOCTYPE html>\n",
    "<html>\n",
    "<body>\n",
    "    <div>\n",
    "        <h1>Foo</h1>\n",
    "        <p>Some intro text about Foo.</p>\n",
    "        <div>\n",
    "            <h2>Bar main section</h2>\n",
    "            <p>Some intro text about Bar.</p>\n",
    "            <h3>Bar subsection 1</h3>\n",
    "            <p>Some text about the first subtopic of Bar.</p>\n",
    "            <h3>Bar subsection 2</h3>\n",
    "            <p>Some text about the second subtopic of Bar.</p>\n",
    "        </div>\n",
    "        <div>\n",
    "            <h2>Baz</h2>\n",
    "            <p>Some text about Baz</p>\n",
    "        </div>\n",
    "        <br>\n",
    "        <p>Some concluding text about Foo</p>\n",
    "    </div>\n",
    "</body>\n",
    "</html>\n",
    "\"\"\"\n",
    "# Define which HTML tags to split on and their corresponding metadata keys\n",
    "split_on=[(\"h1\",\"Header1\"),(\"h2\",\"Header2\"),(\"h3\",\"Header3\")]\n",
    "#desigining a splitter on specific parameters\n",
    "html_splitter=HTMLHeaderTextSplitter(split_on)\n",
    "#splitting the desired html document\n",
    "splitted_html=html_splitter.split_text(htmlstring)\n",
    "print(splitted_html)"
   ],
   "id": "initial_id",
   "outputs": [
    {
     "name": "stdout",
     "output_type": "stream",
     "text": [
      "[Document(metadata={'Header1': 'Foo'}, page_content='Foo'), Document(metadata={'Header1': 'Foo'}, page_content='Some intro text about Foo.'), Document(metadata={'Header1': 'Foo', 'Header2': 'Bar main section'}, page_content='Bar main section'), Document(metadata={'Header1': 'Foo', 'Header2': 'Bar main section'}, page_content='Some intro text about Bar.'), Document(metadata={'Header1': 'Foo', 'Header2': 'Bar main section', 'Header3': 'Bar subsection 1'}, page_content='Bar subsection 1'), Document(metadata={'Header1': 'Foo', 'Header2': 'Bar main section', 'Header3': 'Bar subsection 1'}, page_content='Some text about the first subtopic of Bar.'), Document(metadata={'Header1': 'Foo', 'Header2': 'Bar main section', 'Header3': 'Bar subsection 2'}, page_content='Bar subsection 2'), Document(metadata={'Header1': 'Foo', 'Header2': 'Bar main section', 'Header3': 'Bar subsection 2'}, page_content='Some text about the second subtopic of Bar.'), Document(metadata={'Header1': 'Foo', 'Header2': 'Baz'}, page_content='Baz'), Document(metadata={'Header1': 'Foo'}, page_content='Some text about Baz  \\nSome concluding text about Foo')]\n"
     ]
    }
   ],
   "execution_count": 1
  },
  {
   "metadata": {
    "ExecuteTime": {
     "end_time": "2025-06-25T12:13:09.743175Z",
     "start_time": "2025-06-25T12:13:07.642413Z"
    }
   },
   "cell_type": "code",
   "source": [
    "url = \"https://plato.stanford.edu/entries/goedel/\"\n",
    "split_on=[(\"h1\",\"Header1\"),(\"h2\",\"Header2\"),(\"h3\",\"Header3\"),(\"h4\",\"Header4\")]\n",
    "html_splitter=HTMLHeaderTextSplitter(split_on)\n",
    "splitted_html=html_splitter.split_text_from_url(url)\n",
    "print(splitted_html)"
   ],
   "id": "2d881546632fd007",
   "outputs": [
    {
     "name": "stdout",
     "output_type": "stream",
     "text": [
      "Kurt Gödel\n"
     ]
    }
   ],
   "execution_count": 8
  }
 ],
 "metadata": {
  "kernelspec": {
   "display_name": "Python 3",
   "language": "python",
   "name": "python3"
  },
  "language_info": {
   "codemirror_mode": {
    "name": "ipython",
    "version": 2
   },
   "file_extension": ".py",
   "mimetype": "text/x-python",
   "name": "python",
   "nbconvert_exporter": "python",
   "pygments_lexer": "ipython2",
   "version": "2.7.6"
  }
 },
 "nbformat": 4,
 "nbformat_minor": 5
}
