{
 "cells": [
  {
   "cell_type": "markdown",
   "id": "288f1a364de224f4",
   "metadata": {},
   "source": [
    "Always Try to use Recursive Character Text Splitter when data is unstructure and not well seperated\n",
    "but use Character text splitter when data is well structured and well seperated\n",
    "by default the separator here is \\n\\n\n",
    "in Rec it Dynamically falls back from \\n\\n → \\n → → char to not to mid cut the sentence and gives high readability\n",
    "i.e. para->sentences->words->char"
   ]
  },
  {
   "cell_type": "code",
   "id": "initial_id",
   "metadata": {},
   "source": [
    "from langchain_community.document_loaders import TextLoader\n",
    "loader=TextLoader('speech.txt')\n",
    "doc=loader.load()\n",
    "doc"
   ],
   "outputs": [],
   "execution_count": null
  },
  {
   "cell_type": "code",
   "id": "ee6a57f56f572fbc",
   "metadata": {},
   "source": [
    "from langchain.text_splitter import CharacterTextSplitter\n",
    "text_splitter=CharacterTextSplitter(separator='\\n\\n',chunk_size=100,chunk_overlap=3)\n",
    "splitted_doc=text_splitter.split_documents(doc)\n",
    "splitted_doc\n",
    "\n",
    "#here in the output \\n will be shown that means character seperator used\n",
    "#although we gave sep \\n\\n but as in speech.txt we have only used 1newline after ending of a line\n",
    "#it is taking whole speech as a chunk and will give \\n to show that newline is used\n",
    "#to see real output of this use speech for character splitter.txt\n"
   ],
   "outputs": [],
   "execution_count": null
  },
  {
   "cell_type": "code",
   "id": "c8f65491aab3acc1",
   "metadata": {},
   "source": [
    "from langchain_community.document_loaders import TextLoader\n",
    "loader=TextLoader('speech_for_char_text_split.txt')\n",
    "doc=loader.load()\n",
    "doc"
   ],
   "outputs": [],
   "execution_count": null
  },
  {
   "cell_type": "code",
   "id": "4e91f4fa65ac766e",
   "metadata": {},
   "source": [
    "from langchain.text_splitter import CharacterTextSplitter\n",
    "text_splitter=CharacterTextSplitter(separator='\\n\\n',chunk_size=10,chunk_overlap=3)\n",
    "splitted_doc=text_splitter.split_documents(doc)\n",
    "print(splitted_doc)\n",
    "\n",
    "\n",
    "# now here see it is saying created a chunk of size 36,65 and so on..  longer than 10 coz\n",
    "# we said to use sep \\n\\n for creating new document but mentioned chunk size 10\n",
    "#so it automatically created size 36 overwriting our command"
   ],
   "outputs": [],
   "execution_count": null
  },
  {
   "cell_type": "code",
   "id": "be4a2cd19c2ed68f",
   "metadata": {},
   "source": [
    "for doc in splitted_doc:\n",
    "    print(doc)\n",
    "    print()"
   ],
   "outputs": [],
   "execution_count": null
  }
 ],
 "metadata": {
  "kernelspec": {
   "display_name": "Python 3",
   "language": "python",
   "name": "python3"
  },
  "language_info": {
   "codemirror_mode": {
    "name": "ipython",
    "version": 2
   },
   "file_extension": ".py",
   "mimetype": "text/x-python",
   "name": "python",
   "nbconvert_exporter": "python",
   "pygments_lexer": "ipython2",
   "version": "2.7.6"
  }
 },
 "nbformat": 4,
 "nbformat_minor": 5
}
