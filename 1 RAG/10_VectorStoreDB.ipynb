{
 "cells": [
  {
   "metadata": {},
   "cell_type": "markdown",
   "source": [
    "#### Faiss\n",
    "Facebook AI Similarity Search (Faiss) is a library for efficient similarity search and clustering of dense vectors. It contains algorithms that search in sets of vectors of any size, up to ones that possibly do not fit in RAM. It also contains supporting code for evaluation and parameter tuning.\n",
    "\n",
    "FAISS is just a vector search library.\n",
    "\n",
    "You feed it vectors.\n",
    "\n",
    "It finds the most similar vectors efficiently.\n",
    "\n",
    "You have to manually manage metadata.\n",
    "\n",
    "ChromaDB is a vector database.\n",
    "\n",
    "It stores both embeddings + associated metadata.\n",
    "\n",
    "You can query with filtering (like SQL-like conditions).\n",
    "\n",
    "Better for RAG pipelines where you need full control over the document store."
   ],
   "id": "aa4f20f191b0e0a6"
  },
  {
   "metadata": {},
   "cell_type": "code",
   "source": [
    "from langchain_community.document_loaders import TextLoader\n",
    "from langchain_community.vectorstores import FAISS\n",
    "from langchain_community.embeddings import OllamaEmbeddings\n",
    "from langchain_text_splitters import CharacterTextSplitter\n",
    "\n",
    "loader=TextLoader(\"larger_speech.txt\")\n",
    "documents=loader.load()\n",
    "text_splitter=CharacterTextSplitter(chunk_size=1000,chunk_overlap=30)\n",
    "docs=text_splitter.split_documents(documents)\n",
    "docs"
   ],
   "id": "initial_id",
   "outputs": [],
   "execution_count": null
  },
  {
   "metadata": {},
   "cell_type": "code",
   "source": "print(f\"Number of chunks created: {len(docs)}\")",
   "id": "306d881a50774b01",
   "outputs": [],
   "execution_count": null
  },
  {
   "metadata": {},
   "cell_type": "code",
   "source": [
    "embeddings=OllamaEmbeddings(model=\"all-minilm:22m\")\n",
    "db=FAISS.from_documents(docs,embeddings)\n",
    "db"
   ],
   "id": "680a8614c2d115c0",
   "outputs": [],
   "execution_count": null
  },
  {
   "metadata": {},
   "cell_type": "markdown",
   "source": [
    "so after storing all my data inputs as a vector in db i.e. fasis\n",
    "then if i give it a query like prompt\n",
    "\n",
    "suppose for a text \"india independence in 1947\"\n",
    "then i ask as \"who got independce in 1947\"\n",
    "\n",
    "then this will be treated as query=\"who got independce in 1947\"\n",
    "and again query will be stored after embedding into vector in fasis and semantic search will be done"
   ],
   "id": "ead9e57e27769c67"
  },
  {
   "metadata": {},
   "cell_type": "code",
   "source": [
    "query=\"How does the speaker describe the desired outcome of the war?\"\n",
    "result_of=db.similarity_search(query)\n",
    "result_of[0].page_content"
   ],
   "id": "62983d28a7946bda",
   "outputs": [],
   "execution_count": null
  },
  {
   "metadata": {},
   "cell_type": "markdown",
   "source": [
    "#### Similarity Search with score\n",
    "There are some FAISS specific methods. One of them is similarity_search_with_score, which allows you to return not only the documents but also the distance score of the query to them. The returned distance score is L2 distance(manhattan distance). Therefore, a lower score is better.\n"
   ],
   "id": "ce723a5e1ccd9c94"
  },
  {
   "metadata": {},
   "cell_type": "code",
   "source": [
    "docs_and_score=db.similarity_search_with_score(query)\n",
    "docs_and_score"
   ],
   "id": "3cd5ee245c6608c9",
   "outputs": [],
   "execution_count": null
  },
  {
   "metadata": {},
   "cell_type": "markdown",
   "source": "till here we are giving queries but we can also give embedded vector of the query itself",
   "id": "98ad2f4d4cf16e12"
  },
  {
   "metadata": {},
   "cell_type": "code",
   "source": [
    "embedded_query=embeddings.embed_query(query)\n",
    "embedded_query"
   ],
   "id": "5878750a1e6ae686",
   "outputs": [],
   "execution_count": null
  },
  {
   "metadata": {},
   "cell_type": "code",
   "source": [
    "docs_and_score=db.similarity_search_with_score(embedded_query)\n",
    "docs_and_score"
   ],
   "id": "62933b0e102a706d",
   "outputs": [],
   "execution_count": null
  },
  {
   "metadata": {},
   "cell_type": "markdown",
   "source": [
    "What Exactly Gets Saved?\n",
    "\n",
    "Vector index file (like index.faiss)\n",
    "\n",
    "Contains all the embedded vectors (numerical arrays)\n",
    "\n",
    "Stored in FAISS's binary format\n",
    "\n",
    "Metadata file (like index.pkl or docstore.pkl)\n",
    "\n",
    "Stores the original text chunks and their metadata (e.g. titles, sources, IDs)\n",
    "\n",
    "Lets FAISS link the vectors back to meaningful documents"
   ],
   "id": "849a300af65909a2"
  },
  {
   "metadata": {},
   "cell_type": "code",
   "source": [
    "### Saving And Loading\n",
    "db.save_local(\"faiss_index\")"
   ],
   "id": "3431154a921493eb",
   "outputs": [],
   "execution_count": null
  },
  {
   "metadata": {},
   "cell_type": "markdown",
   "source": "loading the faiss_index",
   "id": "12b6334c48b817ae"
  },
  {
   "metadata": {},
   "cell_type": "code",
   "source": [
    "new_db=FAISS.load_local(\"faiss_index\",embeddings,allow_dangerous_deserialization=True)\n",
    "docs=new_db.similarity_search(query)"
   ],
   "id": "a657c34511f68bbf",
   "outputs": [],
   "execution_count": null
  },
  {
   "metadata": {},
   "cell_type": "code",
   "source": "docs",
   "id": "f6a1c7ec7b9a1a4b",
   "outputs": [],
   "execution_count": null
  },
  {
   "metadata": {},
   "cell_type": "markdown",
   "source": [
    "#### As a Retriever\n",
    "We can also convert the vectorstore into a Retriever class. This allows us to easily use it in other LangChain methods, which largely work with retrievers\n",
    "\n",
    "k is nearest neighbours\n"
   ],
   "id": "fe5cfdf02c4b1771"
  },
  {
   "metadata": {},
   "cell_type": "code",
   "outputs": [],
   "execution_count": null,
   "source": [
    "retriever=db.as_retriever(search_kwargs={\"k\": 1})\n",
    "docs=retriever.invoke(query)\n",
    "docs[0].page_content"
   ],
   "id": "1ff33367ac11bf97"
  },
  {
   "metadata": {},
   "cell_type": "code",
   "outputs": [],
   "execution_count": null,
   "source": [
    "retriever=db.as_retriever()\n",
    "docs=retriever.invoke(query)\n",
    "for doc in docs:\n",
    "    print(\"\\n the output is \\n\")\n",
    "    print(doc.page_content)"
   ],
   "id": "37131b70b2042d46"
  }
 ],
 "metadata": {
  "kernelspec": {
   "display_name": "Python 3",
   "language": "python",
   "name": "python3"
  },
  "language_info": {
   "codemirror_mode": {
    "name": "ipython",
    "version": 2
   },
   "file_extension": ".py",
   "mimetype": "text/x-python",
   "name": "python",
   "nbconvert_exporter": "python",
   "pygments_lexer": "ipython2",
   "version": "2.7.6"
  }
 },
 "nbformat": 4,
 "nbformat_minor": 5
}
