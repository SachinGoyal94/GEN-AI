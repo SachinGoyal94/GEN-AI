{
 "cells": [
  {
   "metadata": {},
   "cell_type": "markdown",
   "source": [
    "#### Faiss\n",
    "Facebook AI Similarity Search (Faiss) is a library for efficient similarity search and clustering of dense vectors. It contains algorithms that search in sets of vectors of any size, up to ones that possibly do not fit in RAM. It also contains supporting code for evaluation and parameter tuning.\n",
    "\n",
    "FAISS is just a vector search library.\n",
    "\n",
    "You feed it vectors.\n",
    "\n",
    "It finds the most similar vectors efficiently.\n",
    "\n",
    "You have to manually manage metadata.\n",
    "\n",
    "ChromaDB is a vector database.\n",
    "\n",
    "It stores both embeddings + associated metadata.\n",
    "\n",
    "You can query with filtering (like SQL-like conditions).\n",
    "\n",
    "Better for RAG pipelines where you need full control over the document store."
   ],
   "id": "aa4f20f191b0e0a6"
  },
  {
   "metadata": {
    "ExecuteTime": {
     "end_time": "2025-06-26T17:12:31.487550Z",
     "start_time": "2025-06-26T17:12:29.596778Z"
    }
   },
   "cell_type": "code",
   "source": [
    "from langchain_community.document_loaders import TextLoader\n",
    "from langchain_community.vectorstores import FAISS\n",
    "from langchain_community.embeddings import OllamaEmbeddings\n",
    "from langchain_text_splitters import CharacterTextSplitter\n",
    "\n",
    "loader=TextLoader(\"larger_speech.txt\")\n",
    "documents=loader.load()\n",
    "text_splitter=CharacterTextSplitter(chunk_size=1000,chunk_overlap=30)\n",
    "docs=text_splitter.split_documents(documents)\n",
    "docs"
   ],
   "id": "initial_id",
   "outputs": [
    {
     "data": {
      "text/plain": [
       "[Document(metadata={'source': 'larger_speech.txt'}, page_content='The world must be made safe for democracy. Its peace must be planted upon the tested foundations of political liberty. We have no selfish ends to serve. We desire no conquest, no dominion. We seek no indemnities for ourselves, no material compensation for the sacrifices we shall freely make. We are but one of the champions of the rights of mankind. We shall be satisfied when those rights have been made as secure as the faith and the freedom of nations can make them.\\n\\nJust because we fight without rancor and without selfish object, seeking nothing for ourselves but what we shall wish to share with all free peoples, we shall, I feel confident, conduct our operations as belligerents without passion and ourselves observe with proud punctilio the principles of right and of fair play we profess to be fighting for.\\n\\n…'),\n",
       " Document(metadata={'source': 'larger_speech.txt'}, page_content='…\\n\\nIt will be all the easier for us to conduct ourselves as belligerents in a high spirit of right and fairness because we act without animus, not in enmity toward a people or with the desire to bring any injury or disadvantage upon them, but only in armed opposition to an irresponsible government which has thrown aside all considerations of humanity and of right and is running amuck. We are, let me say again, the sincere friends of the German people, and shall desire nothing so much as the early reestablishment of intimate relations of mutual advantage between us—however hard it may be for them, for the time being, to believe that this is spoken from our hearts.'),\n",
       " Document(metadata={'source': 'larger_speech.txt'}, page_content='We have borne with their present government through all these bitter months because of that friendship—exercising a patience and forbearance which would otherwise have been impossible. We shall, happily, still have an opportunity to prove that friendship in our daily attitude and actions toward the millions of men and women of German birth and native sympathy who live among us and share our life, and we shall be proud to prove it toward all who are in fact loyal to their neighbors and to the government in the hour of test. They are, most of them, as true and loyal Americans as if they had never known any other fealty or allegiance. They will be prompt to stand with us in rebuking and restraining the few who may be of a different mind and purpose. If there should be disloyalty, it will be dealt with with a firm hand of stern repression; but, if it lifts its head at all, it will lift it only here and there and without countenance except from a lawless and malignant few.'),\n",
       " Document(metadata={'source': 'larger_speech.txt'}, page_content='It is a distressing and oppressive duty, gentlemen of the Congress, which I have performed in thus addressing you. There are, it may be, many months of fiery trial and sacrifice ahead of us. It is a fearful thing to lead this great peaceful people into war, into the most terrible and disastrous of all wars, civilization itself seeming to be in the balance. But the right is more precious than peace, and we shall fight for the things which we have always carried nearest our hearts—for democracy, for the right of those who submit to authority to have a voice in their own governments, for the rights and liberties of small nations, for a universal dominion of right by such a concert of free peoples as shall bring peace and safety to all nations and make the world itself at last free.'),\n",
       " Document(metadata={'source': 'larger_speech.txt'}, page_content='To such a task we can dedicate our lives and our fortunes, everything that we are and everything that we have, with the pride of those who know that the day has come when America is privileged to spend her blood and her might for the principles that gave her birth and happiness and the peace which she has treasured. God helping her, she can do no other.')]"
      ]
     },
     "execution_count": 2,
     "metadata": {},
     "output_type": "execute_result"
    }
   ],
   "execution_count": 2
  },
  {
   "metadata": {
    "ExecuteTime": {
     "end_time": "2025-06-26T17:17:31.744458Z",
     "start_time": "2025-06-26T17:17:19.891553Z"
    }
   },
   "cell_type": "code",
   "source": [
    "embeddings=OllamaEmbeddings(model=\"all-minilm:22m\")\n",
    "db=FAISS.from_documents(docs,embeddings)\n",
    "db"
   ],
   "id": "680a8614c2d115c0",
   "outputs": [
    {
     "data": {
      "text/plain": [
       "<langchain_community.vectorstores.faiss.FAISS at 0x19fe12a3380>"
      ]
     },
     "execution_count": 14,
     "metadata": {},
     "output_type": "execute_result"
    }
   ],
   "execution_count": 14
  },
  {
   "metadata": {},
   "cell_type": "markdown",
   "source": [
    "so after storing all my data inputs as a vector in db i.e. fasis\n",
    "then if i give it a query like prompt suppose for a text \"india independence in 1947\"\n",
    "then i ask as \"who got independce in 1947\"\n",
    "then this will be treated as query=\"who got independce in 1947\"\n",
    "and again query will be stored after embedding into vector in fasis and semantic search will be done"
   ],
   "id": "ead9e57e27769c67"
  },
  {
   "metadata": {
    "ExecuteTime": {
     "end_time": "2025-06-26T17:17:35.795217Z",
     "start_time": "2025-06-26T17:17:33.666094Z"
    }
   },
   "cell_type": "code",
   "source": [
    "query=\"How does the speaker describe the desired outcome of the war?\"\n",
    "result_of=db.similarity_search(query)\n",
    "result_of[0].page_content"
   ],
   "id": "62983d28a7946bda",
   "outputs": [
    {
     "data": {
      "text/plain": [
       "'It is a distressing and oppressive duty, gentlemen of the Congress, which I have performed in thus addressing you. There are, it may be, many months of fiery trial and sacrifice ahead of us. It is a fearful thing to lead this great peaceful people into war, into the most terrible and disastrous of all wars, civilization itself seeming to be in the balance. But the right is more precious than peace, and we shall fight for the things which we have always carried nearest our hearts—for democracy, for the right of those who submit to authority to have a voice in their own governments, for the rights and liberties of small nations, for a universal dominion of right by such a concert of free peoples as shall bring peace and safety to all nations and make the world itself at last free.'"
      ]
     },
     "execution_count": 15,
     "metadata": {},
     "output_type": "execute_result"
    }
   ],
   "execution_count": 15
  },
  {
   "metadata": {
    "ExecuteTime": {
     "end_time": "2025-06-26T17:17:39.045374Z",
     "start_time": "2025-06-26T17:17:39.039221Z"
    }
   },
   "cell_type": "code",
   "source": "print(f\"Number of chunks created: {len(docs)}\")",
   "id": "306d881a50774b01",
   "outputs": [
    {
     "name": "stdout",
     "output_type": "stream",
     "text": [
      "Number of chunks created: 5\n"
     ]
    }
   ],
   "execution_count": 16
  },
  {
   "metadata": {},
   "cell_type": "markdown",
   "source": [
    "#### As a Retriever\n",
    "We can also convert the vectorstore into a Retriever class. This allows us to easily use it in other LangChain methods, which largely work with retrievers\n"
   ],
   "id": "fe5cfdf02c4b1771"
  },
  {
   "metadata": {},
   "cell_type": "markdown",
   "source": "k is nearest neighbours",
   "id": "c507992ca48c39be"
  },
  {
   "metadata": {},
   "cell_type": "code",
   "outputs": [
    {
     "data": {
      "text/plain": [
       "'It is a distressing and oppressive duty, gentlemen of the Congress, which I have performed in thus addressing you. There are, it may be, many months of fiery trial and sacrifice ahead of us. It is a fearful thing to lead this great peaceful people into war, into the most terrible and disastrous of all wars, civilization itself seeming to be in the balance. But the right is more precious than peace, and we shall fight for the things which we have always carried nearest our hearts—for democracy, for the right of those who submit to authority to have a voice in their own governments, for the rights and liberties of small nations, for a universal dominion of right by such a concert of free peoples as shall bring peace and safety to all nations and make the world itself at last free.'"
      ]
     },
     "execution_count": 20,
     "metadata": {},
     "output_type": "execute_result"
    }
   ],
   "execution_count": 20,
   "source": [
    "retriever=db.as_retriever(search_kwargs={\"k\": 1})\n",
    "docs=retriever.invoke(query)\n",
    "docs[1].page_content"
   ],
   "id": "1ff33367ac11bf97"
  },
  {
   "metadata": {
    "ExecuteTime": {
     "end_time": "2025-06-26T17:23:09.747266Z",
     "start_time": "2025-06-26T17:23:07.679191Z"
    }
   },
   "cell_type": "code",
   "source": [
    "retriever=db.as_retriever()\n",
    "docs=retriever.invoke(query)\n",
    "for doc in docs:\n",
    "    print(\"\\n the output is \\n\")\n",
    "    print(doc.page_content)"
   ],
   "id": "37131b70b2042d46",
   "outputs": [
    {
     "name": "stdout",
     "output_type": "stream",
     "text": [
      "\n",
      " the output is \n",
      "\n",
      "It is a distressing and oppressive duty, gentlemen of the Congress, which I have performed in thus addressing you. There are, it may be, many months of fiery trial and sacrifice ahead of us. It is a fearful thing to lead this great peaceful people into war, into the most terrible and disastrous of all wars, civilization itself seeming to be in the balance. But the right is more precious than peace, and we shall fight for the things which we have always carried nearest our hearts—for democracy, for the right of those who submit to authority to have a voice in their own governments, for the rights and liberties of small nations, for a universal dominion of right by such a concert of free peoples as shall bring peace and safety to all nations and make the world itself at last free.\n",
      "\n",
      " the output is \n",
      "\n",
      "The world must be made safe for democracy. Its peace must be planted upon the tested foundations of political liberty. We have no selfish ends to serve. We desire no conquest, no dominion. We seek no indemnities for ourselves, no material compensation for the sacrifices we shall freely make. We are but one of the champions of the rights of mankind. We shall be satisfied when those rights have been made as secure as the faith and the freedom of nations can make them.\n",
      "\n",
      "Just because we fight without rancor and without selfish object, seeking nothing for ourselves but what we shall wish to share with all free peoples, we shall, I feel confident, conduct our operations as belligerents without passion and ourselves observe with proud punctilio the principles of right and of fair play we profess to be fighting for.\n",
      "\n",
      "…\n",
      "\n",
      " the output is \n",
      "\n",
      "…\n",
      "\n",
      "It will be all the easier for us to conduct ourselves as belligerents in a high spirit of right and fairness because we act without animus, not in enmity toward a people or with the desire to bring any injury or disadvantage upon them, but only in armed opposition to an irresponsible government which has thrown aside all considerations of humanity and of right and is running amuck. We are, let me say again, the sincere friends of the German people, and shall desire nothing so much as the early reestablishment of intimate relations of mutual advantage between us—however hard it may be for them, for the time being, to believe that this is spoken from our hearts.\n",
      "\n",
      " the output is \n",
      "\n",
      "We have borne with their present government through all these bitter months because of that friendship—exercising a patience and forbearance which would otherwise have been impossible. We shall, happily, still have an opportunity to prove that friendship in our daily attitude and actions toward the millions of men and women of German birth and native sympathy who live among us and share our life, and we shall be proud to prove it toward all who are in fact loyal to their neighbors and to the government in the hour of test. They are, most of them, as true and loyal Americans as if they had never known any other fealty or allegiance. They will be prompt to stand with us in rebuking and restraining the few who may be of a different mind and purpose. If there should be disloyalty, it will be dealt with with a firm hand of stern repression; but, if it lifts its head at all, it will lift it only here and there and without countenance except from a lawless and malignant few.\n"
     ]
    }
   ],
   "execution_count": 29
  },
  {
   "metadata": {},
   "cell_type": "markdown",
   "source": [
    "#### Similarity Search with score\n",
    "There are some FAISS specific methods. One of them is similarity_search_with_score, which allows you to return not only the documents but also the distance score of the query to them. The returned distance score is L2 distance(manhattan distance). Therefore, a lower score is better.\n"
   ],
   "id": "ce723a5e1ccd9c94"
  },
  {
   "metadata": {
    "ExecuteTime": {
     "end_time": "2025-06-26T17:25:20.240290Z",
     "start_time": "2025-06-26T17:25:17.983714Z"
    }
   },
   "cell_type": "code",
   "source": [
    "docs_and_score=db.similarity_search_with_score(query)\n",
    "docs_and_score"
   ],
   "id": "3cd5ee245c6608c9",
   "outputs": [
    {
     "data": {
      "text/plain": [
       "[(Document(id='11332ded-8fe6-4b54-bca5-576baa1d9687', metadata={'source': 'larger_speech.txt'}, page_content='It is a distressing and oppressive duty, gentlemen of the Congress, which I have performed in thus addressing you. There are, it may be, many months of fiery trial and sacrifice ahead of us. It is a fearful thing to lead this great peaceful people into war, into the most terrible and disastrous of all wars, civilization itself seeming to be in the balance. But the right is more precious than peace, and we shall fight for the things which we have always carried nearest our hearts—for democracy, for the right of those who submit to authority to have a voice in their own governments, for the rights and liberties of small nations, for a universal dominion of right by such a concert of free peoples as shall bring peace and safety to all nations and make the world itself at last free.'),\n",
       "  np.float32(15.974321)),\n",
       " (Document(id='39969d30-6ee9-46f9-bc38-f62efef6b255', metadata={'source': 'larger_speech.txt'}, page_content='The world must be made safe for democracy. Its peace must be planted upon the tested foundations of political liberty. We have no selfish ends to serve. We desire no conquest, no dominion. We seek no indemnities for ourselves, no material compensation for the sacrifices we shall freely make. We are but one of the champions of the rights of mankind. We shall be satisfied when those rights have been made as secure as the faith and the freedom of nations can make them.\\n\\nJust because we fight without rancor and without selfish object, seeking nothing for ourselves but what we shall wish to share with all free peoples, we shall, I feel confident, conduct our operations as belligerents without passion and ourselves observe with proud punctilio the principles of right and of fair play we profess to be fighting for.\\n\\n…'),\n",
       "  np.float32(16.678577)),\n",
       " (Document(id='8ce06916-8064-48b3-a875-df72622e6463', metadata={'source': 'larger_speech.txt'}, page_content='…\\n\\nIt will be all the easier for us to conduct ourselves as belligerents in a high spirit of right and fairness because we act without animus, not in enmity toward a people or with the desire to bring any injury or disadvantage upon them, but only in armed opposition to an irresponsible government which has thrown aside all considerations of humanity and of right and is running amuck. We are, let me say again, the sincere friends of the German people, and shall desire nothing so much as the early reestablishment of intimate relations of mutual advantage between us—however hard it may be for them, for the time being, to believe that this is spoken from our hearts.'),\n",
       "  np.float32(17.34037)),\n",
       " (Document(id='dd0929e0-b72b-499c-b63f-ef6b5383b655', metadata={'source': 'larger_speech.txt'}, page_content='We have borne with their present government through all these bitter months because of that friendship—exercising a patience and forbearance which would otherwise have been impossible. We shall, happily, still have an opportunity to prove that friendship in our daily attitude and actions toward the millions of men and women of German birth and native sympathy who live among us and share our life, and we shall be proud to prove it toward all who are in fact loyal to their neighbors and to the government in the hour of test. They are, most of them, as true and loyal Americans as if they had never known any other fealty or allegiance. They will be prompt to stand with us in rebuking and restraining the few who may be of a different mind and purpose. If there should be disloyalty, it will be dealt with with a firm hand of stern repression; but, if it lifts its head at all, it will lift it only here and there and without countenance except from a lawless and malignant few.'),\n",
       "  np.float32(17.750553))]"
      ]
     },
     "execution_count": 30,
     "metadata": {},
     "output_type": "execute_result"
    }
   ],
   "execution_count": 30
  },
  {
   "metadata": {},
   "cell_type": "markdown",
   "source": "till here we are giving queries but we can also give embedded vector of the query itself",
   "id": "98ad2f4d4cf16e12"
  },
  {
   "metadata": {
    "ExecuteTime": {
     "end_time": "2025-06-26T18:14:12.045994Z",
     "start_time": "2025-06-26T18:14:07.028908Z"
    }
   },
   "cell_type": "code",
   "source": [
    "embedded_query=embeddings.embed_query(query)\n",
    "embedded_query"
   ],
   "id": "5878750a1e6ae686",
   "outputs": [
    {
     "data": {
      "text/plain": [
       "[-0.11221946030855179,\n",
       " 0.3848111629486084,\n",
       " -0.002465207129716873,\n",
       " 0.03732418641448021,\n",
       " -0.2030576765537262,\n",
       " 0.3343668282032013,\n",
       " 0.27403393387794495,\n",
       " -0.02678191475570202,\n",
       " 0.00825434923171997,\n",
       " 0.07606478035449982,\n",
       " -0.21836702525615692,\n",
       " 0.054546236991882324,\n",
       " 0.10464949905872345,\n",
       " -0.07646269351243973,\n",
       " -0.0987904742360115,\n",
       " 0.05798334628343582,\n",
       " 0.10039712488651276,\n",
       " -0.22238612174987793,\n",
       " 0.018947608768939972,\n",
       " -0.0156472809612751,\n",
       " 0.38640865683555603,\n",
       " 0.320156455039978,\n",
       " 0.3491297662258148,\n",
       " 0.08060548454523087,\n",
       " 0.21672499179840088,\n",
       " -0.047175247222185135,\n",
       " -0.08705932646989822,\n",
       " 0.23342084884643555,\n",
       " -0.1535751223564148,\n",
       " 0.20164808630943298,\n",
       " 0.11621276289224625,\n",
       " -0.02108723297715187,\n",
       " 0.10700991004705429,\n",
       " 0.11959764361381531,\n",
       " 0.08730784058570862,\n",
       " -0.06898330897092819,\n",
       " -0.165169358253479,\n",
       " -0.016831230372190475,\n",
       " -0.0052183158695697784,\n",
       " -0.11693349480628967,\n",
       " -0.24710366129875183,\n",
       " -0.22964419424533844,\n",
       " 0.11679495126008987,\n",
       " 0.15106041729450226,\n",
       " 0.07926890254020691,\n",
       " -0.016137797385454178,\n",
       " -0.47676584124565125,\n",
       " -0.00999433919787407,\n",
       " 0.05632598698139191,\n",
       " 0.3505554795265198,\n",
       " -0.12416407465934753,\n",
       " -0.058563992381095886,\n",
       " -0.10673456639051437,\n",
       " 0.028561368584632874,\n",
       " 0.13505160808563232,\n",
       " -0.03862732648849487,\n",
       " -0.12006237357854843,\n",
       " 0.014045500196516514,\n",
       " 0.16822773218154907,\n",
       " -0.21319125592708588,\n",
       " -0.30156612396240234,\n",
       " -0.21110156178474426,\n",
       " -0.07363873720169067,\n",
       " 0.25338980555534363,\n",
       " 0.27544569969177246,\n",
       " -0.3635457158088684,\n",
       " 0.22253309190273285,\n",
       " -0.011404410935938358,\n",
       " -0.607539176940918,\n",
       " -5.9859827160835266e-05,\n",
       " 0.10895434021949768,\n",
       " 0.031282033771276474,\n",
       " 0.1322198510169983,\n",
       " -0.1310587078332901,\n",
       " -0.15915486216545105,\n",
       " -0.2007426917552948,\n",
       " 0.32082295417785645,\n",
       " 0.17833317816257477,\n",
       " 0.3654773533344269,\n",
       " 0.09724490344524384,\n",
       " 0.018654057756066322,\n",
       " 0.21320614218711853,\n",
       " -0.15766608715057373,\n",
       " 0.05951295420527458,\n",
       " 0.2676064670085907,\n",
       " -0.27206459641456604,\n",
       " 0.1319066286087036,\n",
       " -0.11095324903726578,\n",
       " 0.3820093274116516,\n",
       " 0.09358653426170349,\n",
       " -0.5725317001342773,\n",
       " -0.39206913113594055,\n",
       " 0.0348697155714035,\n",
       " 0.38822588324546814,\n",
       " 0.06769806891679764,\n",
       " 0.4314880967140198,\n",
       " 0.15259866416454315,\n",
       " -0.2133488953113556,\n",
       " 0.0819619745016098,\n",
       " 0.16827793419361115,\n",
       " 0.45263367891311646,\n",
       " -0.2874683439731598,\n",
       " -0.10354971885681152,\n",
       " -0.6013869047164917,\n",
       " -0.31820783019065857,\n",
       " -0.3307126462459564,\n",
       " -0.523833155632019,\n",
       " 0.15157394111156464,\n",
       " -0.37483465671539307,\n",
       " -0.1242009624838829,\n",
       " -0.42804738879203796,\n",
       " -0.16013582050800323,\n",
       " 0.19570034742355347,\n",
       " -0.10817550867795944,\n",
       " 0.1681343913078308,\n",
       " 0.15405476093292236,\n",
       " 0.04616424813866615,\n",
       " -0.26092055439949036,\n",
       " -0.16438794136047363,\n",
       " 0.0003410493955016136,\n",
       " 0.09893383830785751,\n",
       " -0.03378405049443245,\n",
       " -0.11080116778612137,\n",
       " 0.0865548625588417,\n",
       " -0.44021913409233093,\n",
       " -0.02740156278014183,\n",
       " 0.05508691817522049,\n",
       " -2.821808278485075e-32,\n",
       " 0.14469805359840393,\n",
       " -0.33517301082611084,\n",
       " 0.0030624577775597572,\n",
       " 0.3990194797515869,\n",
       " -0.2244647592306137,\n",
       " -0.214519664645195,\n",
       " -0.1456238031387329,\n",
       " -0.004481244366616011,\n",
       " 0.20445147156715393,\n",
       " 0.14063790440559387,\n",
       " -0.4200752079486847,\n",
       " 0.05210036411881447,\n",
       " -0.005165766924619675,\n",
       " 0.291402131319046,\n",
       " -0.12747159600257874,\n",
       " -0.08893149346113205,\n",
       " -0.5484238862991333,\n",
       " 0.4735826849937439,\n",
       " -0.16444131731987,\n",
       " -0.014236023649573326,\n",
       " -0.003951498307287693,\n",
       " 0.3732760548591614,\n",
       " -0.03147563338279724,\n",
       " -0.12592478096485138,\n",
       " 0.5220921039581299,\n",
       " -0.10413583368062973,\n",
       " -0.1282605230808258,\n",
       " -0.22488898038864136,\n",
       " -0.20703822374343872,\n",
       " 0.09079118072986603,\n",
       " -0.10038847476243973,\n",
       " 0.11784312129020691,\n",
       " -0.1704162359237671,\n",
       " -0.4511326551437378,\n",
       " 0.22750797867774963,\n",
       " -0.008138400502502918,\n",
       " -0.37351343035697937,\n",
       " 0.0985003411769867,\n",
       " -0.15958252549171448,\n",
       " -0.056746602058410645,\n",
       " -0.0579882450401783,\n",
       " 0.09172285348176956,\n",
       " -0.17647503316402435,\n",
       " 0.19669021666049957,\n",
       " 0.29741862416267395,\n",
       " -0.13041746616363525,\n",
       " -0.34049326181411743,\n",
       " -0.05238264799118042,\n",
       " -0.26253819465637207,\n",
       " 0.02891124039888382,\n",
       " 0.04976017400622368,\n",
       " -0.12055540084838867,\n",
       " -0.08073096722364426,\n",
       " -0.11863376200199127,\n",
       " 0.4170660376548767,\n",
       " 0.1047077402472496,\n",
       " 0.054466310888528824,\n",
       " 0.2509841024875641,\n",
       " -0.3362521529197693,\n",
       " -0.22582048177719116,\n",
       " 0.2806757390499115,\n",
       " -0.0775664895772934,\n",
       " 0.03390127047896385,\n",
       " -0.04326283931732178,\n",
       " 0.01933707855641842,\n",
       " 0.0183121245354414,\n",
       " -0.515603244304657,\n",
       " -0.1128508448600769,\n",
       " 0.02904454618692398,\n",
       " -0.009797066450119019,\n",
       " -0.04318446293473244,\n",
       " -0.01952531188726425,\n",
       " 0.133480966091156,\n",
       " -0.26987215876579285,\n",
       " -0.34204810857772827,\n",
       " 0.1463714987039566,\n",
       " 0.13412313163280487,\n",
       " 0.12026922404766083,\n",
       " 0.09073322266340256,\n",
       " -0.2594341039657593,\n",
       " -0.07241843640804291,\n",
       " 0.0034210269805043936,\n",
       " -0.0024123508483171463,\n",
       " 0.20036852359771729,\n",
       " 0.01574084907770157,\n",
       " -0.013021065853536129,\n",
       " 0.14891649782657623,\n",
       " -0.7440892457962036,\n",
       " -0.04362114518880844,\n",
       " -0.12692521512508392,\n",
       " -0.08192919939756393,\n",
       " 0.03463585674762726,\n",
       " -0.06620696187019348,\n",
       " 0.1301277130842209,\n",
       " -0.017859283834695816,\n",
       " 1.0885440622495199e-32,\n",
       " -0.18050646781921387,\n",
       " 0.40884900093078613,\n",
       " -0.10290298610925674,\n",
       " 0.06116841733455658,\n",
       " -0.14594870805740356,\n",
       " 0.07421863079071045,\n",
       " -0.0075456527993083,\n",
       " -0.2178572565317154,\n",
       " -0.012984523549675941,\n",
       " 0.030265765264630318,\n",
       " -0.12579454481601715,\n",
       " -0.005541584454476833,\n",
       " 0.05834731087088585,\n",
       " 0.25839170813560486,\n",
       " -0.39821797609329224,\n",
       " 0.07615721225738525,\n",
       " 0.4579240679740906,\n",
       " -0.22839604318141937,\n",
       " 0.19258107244968414,\n",
       " 0.15877114236354828,\n",
       " 0.10218362510204315,\n",
       " 0.1696145236492157,\n",
       " -0.2370322048664093,\n",
       " -0.15470756590366364,\n",
       " 0.13228048384189606,\n",
       " -0.025781985372304916,\n",
       " 0.46664175391197205,\n",
       " -0.2687508165836334,\n",
       " -0.22912245988845825,\n",
       " -0.12330496311187744,\n",
       " 0.23503826558589935,\n",
       " -0.621222972869873,\n",
       " -0.3828078508377075,\n",
       " 0.29475414752960205,\n",
       " 0.302282452583313,\n",
       " 0.2683151960372925,\n",
       " 0.5259979963302612,\n",
       " -0.20683978497982025,\n",
       " -0.06717249006032944,\n",
       " 0.022130118682980537,\n",
       " 0.008378587663173676,\n",
       " -0.32580801844596863,\n",
       " -0.1799025684595108,\n",
       " 0.2549808919429779,\n",
       " -0.3758336901664734,\n",
       " -0.0904075875878334,\n",
       " -0.0964820459485054,\n",
       " 0.053368475288152695,\n",
       " 0.18440020084381104,\n",
       " -0.2259596884250641,\n",
       " 0.1852521449327469,\n",
       " 0.22199870645999908,\n",
       " -0.14855650067329407,\n",
       " 0.29552730917930603,\n",
       " -0.3355900049209595,\n",
       " -0.27876952290534973,\n",
       " -0.24591410160064697,\n",
       " -0.45892953872680664,\n",
       " 0.15658541023731232,\n",
       " 0.2867489457130432,\n",
       " -0.3682117462158203,\n",
       " 0.1010955423116684,\n",
       " 0.026952244341373444,\n",
       " -0.07176195085048676,\n",
       " -0.12580418586730957,\n",
       " -0.12332548201084137,\n",
       " -0.25744280219078064,\n",
       " 0.037685245275497437,\n",
       " 0.26670148968696594,\n",
       " 0.16947640478610992,\n",
       " 0.12047209590673447,\n",
       " 0.030635612085461617,\n",
       " -0.23264990746974945,\n",
       " 0.040342845022678375,\n",
       " 0.5231904983520508,\n",
       " -0.04083700478076935,\n",
       " -0.03625361621379852,\n",
       " -0.1946692317724228,\n",
       " -0.43172958493232727,\n",
       " 0.15890714526176453,\n",
       " -0.11916305869817734,\n",
       " -0.05162914842367172,\n",
       " -0.03285320848226547,\n",
       " 0.04694603756070137,\n",
       " -0.1491512656211853,\n",
       " 0.017001545056700706,\n",
       " -0.12141352891921997,\n",
       " 0.2140558958053589,\n",
       " 0.17970211803913116,\n",
       " 0.07108557224273682,\n",
       " 0.03274983540177345,\n",
       " -0.2541199326515198,\n",
       " 0.018259814009070396,\n",
       " -0.0807524174451828,\n",
       " -0.1304367184638977,\n",
       " -9.777567555602218e-08,\n",
       " -0.23354899883270264,\n",
       " 0.16733737289905548,\n",
       " 0.2527231276035309,\n",
       " 0.13031640648841858,\n",
       " -0.2501542568206787,\n",
       " 0.0021288697607815266,\n",
       " -0.010431582108139992,\n",
       " -0.3368898630142212,\n",
       " -0.01412157341837883,\n",
       " -0.0008962079882621765,\n",
       " 0.09330639243125916,\n",
       " 0.40005362033843994,\n",
       " -0.09948912262916565,\n",
       " 0.16766664385795593,\n",
       " -0.019423924386501312,\n",
       " 0.3692290484905243,\n",
       " -0.007987897843122482,\n",
       " 0.040748901665210724,\n",
       " -0.20426137745380402,\n",
       " -0.34016355872154236,\n",
       " 0.32919198274612427,\n",
       " 0.016288936138153076,\n",
       " -0.18307346105575562,\n",
       " -0.0008444273844361305,\n",
       " 0.1305961310863495,\n",
       " 0.3986738324165344,\n",
       " -0.1325976848602295,\n",
       " 0.19453372061252594,\n",
       " -0.1300872415304184,\n",
       " 0.44941556453704834,\n",
       " 0.11457891017198563,\n",
       " 0.3646256923675537,\n",
       " -0.37990787625312805,\n",
       " -0.2563580870628357,\n",
       " -0.12686529755592346,\n",
       " 0.45048806071281433,\n",
       " 0.006802381481975317,\n",
       " -0.21759918332099915,\n",
       " 0.33599451184272766,\n",
       " -0.12552139163017273,\n",
       " -0.0037393388338387012,\n",
       " 0.7163812518119812,\n",
       " 0.2055675983428955,\n",
       " 0.30658960342407227,\n",
       " 0.4140528738498688,\n",
       " 0.3260817229747772,\n",
       " 0.015106557868421078,\n",
       " -0.1238531619310379,\n",
       " -0.1559816300868988,\n",
       " -0.1705554723739624,\n",
       " -0.026227667927742004,\n",
       " -0.06697352975606918,\n",
       " -0.003352060914039612,\n",
       " 0.29411381483078003,\n",
       " 0.06006062030792236,\n",
       " 0.08857017755508423,\n",
       " 0.2735629975795746,\n",
       " 0.1378467082977295,\n",
       " 0.21041350066661835,\n",
       " 0.21457809209823608,\n",
       " 0.18456628918647766,\n",
       " 0.1961999088525772,\n",
       " -0.10502680391073227,\n",
       " 0.0379154309630394]"
      ]
     },
     "execution_count": 31,
     "metadata": {},
     "output_type": "execute_result"
    }
   ],
   "execution_count": 31
  },
  {
   "metadata": {
    "ExecuteTime": {
     "end_time": "2025-06-26T18:14:32.550382Z",
     "start_time": "2025-06-26T18:14:30.383332Z"
    }
   },
   "cell_type": "code",
   "source": [
    "docs_and_score=db.similarity_search_with_score(embedded_query)\n",
    "docs_and_score"
   ],
   "id": "62933b0e102a706d",
   "outputs": [
    {
     "data": {
      "text/plain": [
       "[(Document(id='dd0929e0-b72b-499c-b63f-ef6b5383b655', metadata={'source': 'larger_speech.txt'}, page_content='We have borne with their present government through all these bitter months because of that friendship—exercising a patience and forbearance which would otherwise have been impossible. We shall, happily, still have an opportunity to prove that friendship in our daily attitude and actions toward the millions of men and women of German birth and native sympathy who live among us and share our life, and we shall be proud to prove it toward all who are in fact loyal to their neighbors and to the government in the hour of test. They are, most of them, as true and loyal Americans as if they had never known any other fealty or allegiance. They will be prompt to stand with us in rebuking and restraining the few who may be of a different mind and purpose. If there should be disloyalty, it will be dealt with with a firm hand of stern repression; but, if it lifts its head at all, it will lift it only here and there and without countenance except from a lawless and malignant few.'),\n",
       "  np.float32(8.333164)),\n",
       " (Document(id='39969d30-6ee9-46f9-bc38-f62efef6b255', metadata={'source': 'larger_speech.txt'}, page_content='The world must be made safe for democracy. Its peace must be planted upon the tested foundations of political liberty. We have no selfish ends to serve. We desire no conquest, no dominion. We seek no indemnities for ourselves, no material compensation for the sacrifices we shall freely make. We are but one of the champions of the rights of mankind. We shall be satisfied when those rights have been made as secure as the faith and the freedom of nations can make them.\\n\\nJust because we fight without rancor and without selfish object, seeking nothing for ourselves but what we shall wish to share with all free peoples, we shall, I feel confident, conduct our operations as belligerents without passion and ourselves observe with proud punctilio the principles of right and of fair play we profess to be fighting for.\\n\\n…'),\n",
       "  np.float32(8.750403)),\n",
       " (Document(id='8ce06916-8064-48b3-a875-df72622e6463', metadata={'source': 'larger_speech.txt'}, page_content='…\\n\\nIt will be all the easier for us to conduct ourselves as belligerents in a high spirit of right and fairness because we act without animus, not in enmity toward a people or with the desire to bring any injury or disadvantage upon them, but only in armed opposition to an irresponsible government which has thrown aside all considerations of humanity and of right and is running amuck. We are, let me say again, the sincere friends of the German people, and shall desire nothing so much as the early reestablishment of intimate relations of mutual advantage between us—however hard it may be for them, for the time being, to believe that this is spoken from our hearts.'),\n",
       "  np.float32(9.057473)),\n",
       " (Document(id='11332ded-8fe6-4b54-bca5-576baa1d9687', metadata={'source': 'larger_speech.txt'}, page_content='It is a distressing and oppressive duty, gentlemen of the Congress, which I have performed in thus addressing you. There are, it may be, many months of fiery trial and sacrifice ahead of us. It is a fearful thing to lead this great peaceful people into war, into the most terrible and disastrous of all wars, civilization itself seeming to be in the balance. But the right is more precious than peace, and we shall fight for the things which we have always carried nearest our hearts—for democracy, for the right of those who submit to authority to have a voice in their own governments, for the rights and liberties of small nations, for a universal dominion of right by such a concert of free peoples as shall bring peace and safety to all nations and make the world itself at last free.'),\n",
       "  np.float32(9.437828))]"
      ]
     },
     "execution_count": 32,
     "metadata": {},
     "output_type": "execute_result"
    }
   ],
   "execution_count": 32
  },
  {
   "metadata": {
    "ExecuteTime": {
     "end_time": "2025-06-26T18:29:05.580437Z",
     "start_time": "2025-06-26T18:29:05.494871Z"
    }
   },
   "cell_type": "code",
   "source": [
    "### Saving And Loading\n",
    "db.save_local(\"faiss_index\")"
   ],
   "id": "3431154a921493eb",
   "outputs": [],
   "execution_count": 33
  },
  {
   "metadata": {},
   "cell_type": "markdown",
   "source": "loading the faiss_index",
   "id": "12b6334c48b817ae"
  },
  {
   "metadata": {
    "ExecuteTime": {
     "end_time": "2025-06-26T18:32:26.085004Z",
     "start_time": "2025-06-26T18:32:24.020992Z"
    }
   },
   "cell_type": "code",
   "source": [
    "new_db=FAISS.load_local(\"faiss_index\",embeddings,allow_dangerous_deserialization=True)\n",
    "docs=new_db.similarity_search(query)"
   ],
   "id": "a657c34511f68bbf",
   "outputs": [],
   "execution_count": 35
  },
  {
   "metadata": {
    "ExecuteTime": {
     "end_time": "2025-06-26T18:32:26.139710Z",
     "start_time": "2025-06-26T18:32:26.111534Z"
    }
   },
   "cell_type": "code",
   "source": "docs",
   "id": "f6a1c7ec7b9a1a4b",
   "outputs": [
    {
     "data": {
      "text/plain": [
       "[Document(id='11332ded-8fe6-4b54-bca5-576baa1d9687', metadata={'source': 'larger_speech.txt'}, page_content='It is a distressing and oppressive duty, gentlemen of the Congress, which I have performed in thus addressing you. There are, it may be, many months of fiery trial and sacrifice ahead of us. It is a fearful thing to lead this great peaceful people into war, into the most terrible and disastrous of all wars, civilization itself seeming to be in the balance. But the right is more precious than peace, and we shall fight for the things which we have always carried nearest our hearts—for democracy, for the right of those who submit to authority to have a voice in their own governments, for the rights and liberties of small nations, for a universal dominion of right by such a concert of free peoples as shall bring peace and safety to all nations and make the world itself at last free.'),\n",
       " Document(id='39969d30-6ee9-46f9-bc38-f62efef6b255', metadata={'source': 'larger_speech.txt'}, page_content='The world must be made safe for democracy. Its peace must be planted upon the tested foundations of political liberty. We have no selfish ends to serve. We desire no conquest, no dominion. We seek no indemnities for ourselves, no material compensation for the sacrifices we shall freely make. We are but one of the champions of the rights of mankind. We shall be satisfied when those rights have been made as secure as the faith and the freedom of nations can make them.\\n\\nJust because we fight without rancor and without selfish object, seeking nothing for ourselves but what we shall wish to share with all free peoples, we shall, I feel confident, conduct our operations as belligerents without passion and ourselves observe with proud punctilio the principles of right and of fair play we profess to be fighting for.\\n\\n…'),\n",
       " Document(id='8ce06916-8064-48b3-a875-df72622e6463', metadata={'source': 'larger_speech.txt'}, page_content='…\\n\\nIt will be all the easier for us to conduct ourselves as belligerents in a high spirit of right and fairness because we act without animus, not in enmity toward a people or with the desire to bring any injury or disadvantage upon them, but only in armed opposition to an irresponsible government which has thrown aside all considerations of humanity and of right and is running amuck. We are, let me say again, the sincere friends of the German people, and shall desire nothing so much as the early reestablishment of intimate relations of mutual advantage between us—however hard it may be for them, for the time being, to believe that this is spoken from our hearts.'),\n",
       " Document(id='dd0929e0-b72b-499c-b63f-ef6b5383b655', metadata={'source': 'larger_speech.txt'}, page_content='We have borne with their present government through all these bitter months because of that friendship—exercising a patience and forbearance which would otherwise have been impossible. We shall, happily, still have an opportunity to prove that friendship in our daily attitude and actions toward the millions of men and women of German birth and native sympathy who live among us and share our life, and we shall be proud to prove it toward all who are in fact loyal to their neighbors and to the government in the hour of test. They are, most of them, as true and loyal Americans as if they had never known any other fealty or allegiance. They will be prompt to stand with us in rebuking and restraining the few who may be of a different mind and purpose. If there should be disloyalty, it will be dealt with with a firm hand of stern repression; but, if it lifts its head at all, it will lift it only here and there and without countenance except from a lawless and malignant few.')]"
      ]
     },
     "execution_count": 36,
     "metadata": {},
     "output_type": "execute_result"
    }
   ],
   "execution_count": 36
  }
 ],
 "metadata": {
  "kernelspec": {
   "display_name": "Python 3",
   "language": "python",
   "name": "python3"
  },
  "language_info": {
   "codemirror_mode": {
    "name": "ipython",
    "version": 2
   },
   "file_extension": ".py",
   "mimetype": "text/x-python",
   "name": "python",
   "nbconvert_exporter": "python",
   "pygments_lexer": "ipython2",
   "version": "2.7.6"
  }
 },
 "nbformat": 4,
 "nbformat_minor": 5
}
