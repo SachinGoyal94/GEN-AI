{
 "cells": [
  {
   "metadata": {},
   "cell_type": "markdown",
   "source": "check documentations in notebook\n",
   "id": "82a09ddb8bd5b7ec"
  },
  {
   "metadata": {},
   "cell_type": "markdown",
   "source": ".txt loader",
   "id": "bde8faa73f2f07c7"
  },
  {
   "metadata": {},
   "cell_type": "code",
   "source": [
    "import bs4\n",
    "from langchain_community.document_loaders import TextLoader\n",
    "load_file=TextLoader('speech.txt') #loading the file\n",
    "load_file"
   ],
   "id": "initial_id",
   "outputs": [],
   "execution_count": null
  },
  {
   "metadata": {},
   "cell_type": "code",
   "source": [
    "#now from loading the speech.txt to making document for it\n",
    "text_documents=load_file.load()   #loaded file to make it lists of document\n",
    "print(text_documents)\n",
    "print(f\"type of output is {type(text_documents)}\")"
   ],
   "id": "4289f640f5523ca2",
   "outputs": [],
   "execution_count": null
  },
  {
   "metadata": {},
   "cell_type": "markdown",
   "source": "pdf loader\n",
   "id": "31e627033b423bb3"
  },
  {
   "metadata": {},
   "cell_type": "code",
   "source": [
    "from langchain_community.document_loaders import PyPDFLoader\n",
    "loader=PyPDFLoader('1_Intro to AI.pdf')\n",
    "pdf_document=loader.load()\n",
    "print(pdf_document)\n",
    "print(f\"type of pdf_document is {type(pdf_document)}\")"
   ],
   "id": "20c2f89da4609cb8",
   "outputs": [],
   "execution_count": null
  },
  {
   "metadata": {},
   "cell_type": "markdown",
   "source": "Web Base Loader",
   "id": "1c4726f069f2c7cf"
  },
  {
   "metadata": {},
   "cell_type": "code",
   "source": [
    "from langchain_community.document_loaders import WebBaseLoader\n",
    "loader=WebBaseLoader(web_paths=(\"https://lilianweng.github.io/posts/2023-06-23-agent/\",),)\n",
    "web_document=loader.load()\n",
    "web_document"
   ],
   "id": "2b72137b0d5124f4",
   "outputs": [],
   "execution_count": null
  },
  {
   "metadata": {},
   "cell_type": "markdown",
   "source": [
    "now if we want to retrieve only specific parts of web only then use \"Beautiful Soup\" bs4\n",
    "go on web page->inspect note the names of particular class you want to see\n"
   ],
   "id": "eb6bbf76d7482090"
  },
  {
   "metadata": {},
   "cell_type": "code",
   "source": [
    "from langchain_community.document_loaders import WebBaseLoader\n",
    "import bs4\n",
    "loader=WebBaseLoader(web_paths=(\"https://lilianweng.github.io/posts/2023-06-23-agent/\",),\n",
    "                     bs_kwargs=dict(parse_only=bs4.SoupStrainer(\n",
    "                         class_=(\"post-title\",\"post-content\",\"post-header\")\n",
    "                     ))\n",
    "                     )\n",
    "web_document=loader.load()\n",
    "web_document"
   ],
   "id": "f2d59219545ac3f",
   "outputs": [],
   "execution_count": null
  },
  {
   "metadata": {},
   "cell_type": "markdown",
   "source": [
    "if we want to go arxiv which is for research\n",
    "chose a research paper and get the no for that known as \"cited as\" inside the document or can search also"
   ],
   "id": "31180cd46735a1b8"
  },
  {
   "metadata": {},
   "cell_type": "code",
   "source": [
    "from langchain_community.document_loaders import ArxivLoader\n",
    "loader=ArxivLoader(query=\"1706.03762\",load_max_docs=2)\n",
    "docs=loader.load()\n",
    "docs"
   ],
   "id": "db958d0d56c81bd0",
   "outputs": [],
   "execution_count": null
  },
  {
   "metadata": {},
   "cell_type": "markdown",
   "source": "for wikipedia",
   "id": "b6041f67cb79a27a"
  },
  {
   "metadata": {},
   "cell_type": "code",
   "source": [
    "from langchain_community.document_loaders import WikipediaLoader\n",
    "wiki_docs=WikipediaLoader(query=\"Sachin Tendulkar\",load_max_docs=2).load()\n",
    "wiki_docs"
   ],
   "id": "54279deaca72e06f",
   "outputs": [],
   "execution_count": null
  }
 ],
 "metadata": {
  "kernelspec": {
   "display_name": "Python 3",
   "language": "python",
   "name": "python3"
  },
  "language_info": {
   "codemirror_mode": {
    "name": "ipython",
    "version": 2
   },
   "file_extension": ".py",
   "mimetype": "text/x-python",
   "name": "python",
   "nbconvert_exporter": "python",
   "pygments_lexer": "ipython2",
   "version": "2.7.6"
  }
 },
 "nbformat": 4,
 "nbformat_minor": 5
}
