{
 "cells": [
  {
   "cell_type": "code",
   "execution_count": null,
   "id": "initial_id",
   "metadata": {
    "collapsed": true
   },
   "outputs": [],
   "source": [
    ""
   ]
  },
  {
   "metadata": {
    "ExecuteTime": {
     "end_time": "2025-06-23T18:56:46.421552Z",
     "start_time": "2025-06-23T18:56:46.106351Z"
    }
   },
   "cell_type": "code",
   "source": [
    "from langchain_core.document_loaders import BaseLoader\n",
    "from langchain_core.documents import Document\n",
    "\n",
    "class WhatsAppChatLoader(BaseLoader):\n",
    "    def __init__(self, file_path: str):\n",
    "        self.file_path = file_path\n",
    "\n",
    "    def load(self):\n",
    "        documents = []\n",
    "        with open(self.file_path, \"r\", encoding=\"utf-8\") as file:\n",
    "            lines = file.readlines()\n",
    "\n",
    "        for line in lines:\n",
    "            if \" - \" in line and \": \" in line:\n",
    "                try:\n",
    "                    datetime_part, message_part = line.split(\" - \", 1)\n",
    "                    sender, message = message_part.split(\": \", 1)\n",
    "\n",
    "                    doc = Document(\n",
    "                        page_content=message.strip(),\n",
    "                        metadata={\n",
    "                            \"datetime\": datetime_part.strip(),\n",
    "                            \"sender\": sender.strip(),\n",
    "                            \"source\": self.file_path\n",
    "                        }\n",
    "                    )\n",
    "                    documents.append(doc)\n",
    "                except ValueError:\n",
    "                    continue\n",
    "\n",
    "        return documents\n"
   ],
   "id": "807b8d57d4ec5b64",
   "outputs": [],
   "execution_count": 2
  },
  {
   "metadata": {
    "ExecuteTime": {
     "end_time": "2025-06-23T18:57:10.879968Z",
     "start_time": "2025-06-23T18:57:10.863550Z"
    }
   },
   "cell_type": "code",
   "source": [
    "loader = WhatsAppChatLoader(\"sample_whatsapp_chat.txt\")\n",
    "docs = loader.load()\n",
    "\n",
    "print(f\"✅ Loaded {len(docs)} messages.\\n\")\n"
   ],
   "id": "a3f18212323427d6",
   "outputs": [
    {
     "name": "stdout",
     "output_type": "stream",
     "text": [
      "✅ Loaded 1050 messages.\n",
      "\n"
     ]
    }
   ],
   "execution_count": 5
  },
  {
   "metadata": {
    "ExecuteTime": {
     "end_time": "2025-06-23T18:57:12.742448Z",
     "start_time": "2025-06-23T18:57:12.736865Z"
    }
   },
   "cell_type": "code",
   "source": [
    "for doc in docs[:5]:\n",
    "    print(f\"{doc.metadata['datetime']} - {doc.metadata['sender']}: {doc.page_content}\")\n"
   ],
   "id": "44668ba1a83b1e8e",
   "outputs": [
    {
     "name": "stdout",
     "output_type": "stream",
     "text": [
      "01/01/2024, 09:02 AM - John: I'll be late today.\n",
      "01/01/2024, 09:10 AM - John: Did you finish the assignment?\n",
      "01/01/2024, 09:12 AM - You: I'll call you later.\n",
      "01/01/2024, 09:15 AM - Rahul: What's your plan for the weekend?\n",
      "01/01/2024, 09:21 AM - You: What's your plan for the weekend?\n"
     ]
    }
   ],
   "execution_count": 6
  },
  {
   "metadata": {
    "ExecuteTime": {
     "end_time": "2025-06-23T18:57:44.575582Z",
     "start_time": "2025-06-23T18:57:44.566670Z"
    }
   },
   "cell_type": "code",
   "source": [
    "keyword = \"exam\"\n",
    "for doc in docs:\n",
    "    if keyword.lower() in doc.page_content.lower():\n",
    "        print(f\"{doc.metadata['datetime']} - {doc.metadata['sender']}: {doc.page_content}\")\n",
    "\n"
   ],
   "id": "3def7a3daff635bd",
   "outputs": [
    {
     "name": "stdout",
     "output_type": "stream",
     "text": [
      "01/01/2024, 09:25 AM - Alice: Don't forget the exam is tomorrow.\n",
      "01/01/2024, 04:42 PM - Rahul: Don't forget the exam is tomorrow.\n",
      "01/01/2024, 05:10 PM - Alice: Don't forget the exam is tomorrow.\n",
      "01/01/2024, 05:23 PM - You: Don't forget the exam is tomorrow.\n",
      "01/01/2024, 07:01 PM - Alex: Don't forget the exam is tomorrow.\n",
      "01/01/2024, 07:30 PM - Alice: Don't forget the exam is tomorrow.\n",
      "01/01/2024, 08:14 PM - Priya: Don't forget the exam is tomorrow.\n",
      "01/01/2024, 10:17 PM - Alex: Don't forget the exam is tomorrow.\n",
      "01/01/2024, 11:24 PM - Rahul: Don't forget the exam is tomorrow.\n",
      "01/01/2024, 11:27 PM - Alice: Don't forget the exam is tomorrow.\n",
      "01/01/2024, 11:49 PM - Priya: Don't forget the exam is tomorrow.\n",
      "02/01/2024, 01:33 AM - Rahul: Don't forget the exam is tomorrow.\n",
      "02/01/2024, 03:43 AM - Alice: Don't forget the exam is tomorrow.\n",
      "02/01/2024, 03:51 AM - You: Don't forget the exam is tomorrow.\n",
      "02/01/2024, 04:22 AM - John: Don't forget the exam is tomorrow.\n",
      "02/01/2024, 05:23 AM - You: Don't forget the exam is tomorrow.\n",
      "02/01/2024, 07:47 AM - Priya: Don't forget the exam is tomorrow.\n",
      "02/01/2024, 09:50 AM - Alex: Don't forget the exam is tomorrow.\n",
      "02/01/2024, 09:59 AM - Priya: Don't forget the exam is tomorrow.\n",
      "02/01/2024, 12:42 PM - Rahul: Don't forget the exam is tomorrow.\n",
      "02/01/2024, 01:16 PM - Priya: Don't forget the exam is tomorrow.\n",
      "02/01/2024, 03:31 PM - Priya: Don't forget the exam is tomorrow.\n",
      "02/01/2024, 04:31 PM - You: Don't forget the exam is tomorrow.\n",
      "02/01/2024, 06:27 PM - Alex: Don't forget the exam is tomorrow.\n",
      "02/01/2024, 09:19 PM - Alice: Don't forget the exam is tomorrow.\n",
      "02/01/2024, 09:58 PM - John: Don't forget the exam is tomorrow.\n",
      "02/01/2024, 11:02 PM - Alex: Don't forget the exam is tomorrow.\n",
      "02/01/2024, 11:20 PM - You: Don't forget the exam is tomorrow.\n",
      "03/01/2024, 12:42 AM - You: Don't forget the exam is tomorrow.\n",
      "03/01/2024, 01:59 AM - Alice: Don't forget the exam is tomorrow.\n",
      "03/01/2024, 02:35 AM - Alice: Don't forget the exam is tomorrow.\n",
      "03/01/2024, 04:16 AM - Alice: Don't forget the exam is tomorrow.\n",
      "03/01/2024, 06:37 AM - Rahul: Don't forget the exam is tomorrow.\n",
      "03/01/2024, 06:54 AM - Alice: Don't forget the exam is tomorrow.\n",
      "03/01/2024, 07:02 AM - Alex: Don't forget the exam is tomorrow.\n",
      "03/01/2024, 07:11 AM - Alice: Don't forget the exam is tomorrow.\n",
      "03/01/2024, 07:18 AM - Rahul: Don't forget the exam is tomorrow.\n",
      "03/01/2024, 09:09 AM - You: Don't forget the exam is tomorrow.\n",
      "03/01/2024, 09:33 AM - Rahul: Don't forget the exam is tomorrow.\n",
      "03/01/2024, 10:51 AM - Alice: Don't forget the exam is tomorrow.\n",
      "03/01/2024, 11:18 AM - Rahul: Don't forget the exam is tomorrow.\n",
      "03/01/2024, 12:41 PM - Priya: Don't forget the exam is tomorrow.\n",
      "03/01/2024, 02:26 PM - Priya: Don't forget the exam is tomorrow.\n",
      "03/01/2024, 03:27 PM - Rahul: Don't forget the exam is tomorrow.\n",
      "03/01/2024, 04:33 PM - John: Don't forget the exam is tomorrow.\n",
      "03/01/2024, 07:09 PM - Priya: Don't forget the exam is tomorrow.\n",
      "03/01/2024, 08:22 PM - John: Don't forget the exam is tomorrow.\n",
      "03/01/2024, 08:54 PM - Priya: Don't forget the exam is tomorrow.\n",
      "03/01/2024, 09:45 PM - You: Don't forget the exam is tomorrow.\n",
      "03/01/2024, 09:49 PM - Rahul: Don't forget the exam is tomorrow.\n",
      "03/01/2024, 10:48 PM - Alex: Don't forget the exam is tomorrow.\n",
      "03/01/2024, 11:48 PM - Rahul: Don't forget the exam is tomorrow.\n",
      "04/01/2024, 12:00 AM - Rahul: Don't forget the exam is tomorrow.\n",
      "04/01/2024, 01:08 AM - You: Don't forget the exam is tomorrow.\n",
      "04/01/2024, 01:33 AM - Alice: Don't forget the exam is tomorrow.\n",
      "04/01/2024, 03:38 AM - You: Don't forget the exam is tomorrow.\n",
      "04/01/2024, 04:58 AM - Alice: Don't forget the exam is tomorrow.\n",
      "04/01/2024, 05:10 AM - John: Don't forget the exam is tomorrow.\n",
      "04/01/2024, 06:25 AM - Alice: Don't forget the exam is tomorrow.\n",
      "04/01/2024, 06:55 AM - John: Don't forget the exam is tomorrow.\n",
      "04/01/2024, 07:11 AM - Priya: Don't forget the exam is tomorrow.\n",
      "04/01/2024, 07:51 AM - Alice: Don't forget the exam is tomorrow.\n",
      "04/01/2024, 08:34 AM - Priya: Don't forget the exam is tomorrow.\n",
      "04/01/2024, 11:19 AM - You: Don't forget the exam is tomorrow.\n",
      "04/01/2024, 12:40 PM - Alex: Don't forget the exam is tomorrow.\n",
      "04/01/2024, 01:14 PM - John: Don't forget the exam is tomorrow.\n",
      "04/01/2024, 01:20 PM - Priya: Don't forget the exam is tomorrow.\n",
      "04/01/2024, 02:11 PM - Alice: Don't forget the exam is tomorrow.\n",
      "04/01/2024, 02:49 PM - Alex: Don't forget the exam is tomorrow.\n",
      "04/01/2024, 03:55 PM - Rahul: Don't forget the exam is tomorrow.\n",
      "04/01/2024, 03:59 PM - John: Don't forget the exam is tomorrow.\n",
      "04/01/2024, 04:25 PM - Alice: Don't forget the exam is tomorrow.\n",
      "04/01/2024, 05:47 PM - You: Don't forget the exam is tomorrow.\n",
      "04/01/2024, 09:01 PM - Alice: Don't forget the exam is tomorrow.\n",
      "04/01/2024, 10:48 PM - Alice: Don't forget the exam is tomorrow.\n",
      "05/01/2024, 12:37 AM - Alice: Don't forget the exam is tomorrow.\n",
      "05/01/2024, 05:38 AM - Alex: Don't forget the exam is tomorrow.\n",
      "05/01/2024, 07:30 AM - John: Don't forget the exam is tomorrow.\n"
     ]
    }
   ],
   "execution_count": 11
  },
  {
   "metadata": {
    "ExecuteTime": {
     "end_time": "2025-06-23T18:57:18.694823Z",
     "start_time": "2025-06-23T18:57:18.688661Z"
    }
   },
   "cell_type": "code",
   "source": [
    "sender = \"Alex\"\n",
    "for doc in docs:\n",
    "    if doc.metadata[\"sender\"] == sender:\n",
    "        print(f\"{doc.metadata['datetime']} - {sender}: {doc.page_content}\")\n",
    "        break  # remove this to print all messages from Alex\n"
   ],
   "id": "540ae05cb3ae96f2",
   "outputs": [
    {
     "name": "stdout",
     "output_type": "stream",
     "text": [
      "01/01/2024, 09:41 AM - Alex: Check the email I sent you.\n"
     ]
    }
   ],
   "execution_count": 8
  }
 ],
 "metadata": {
  "kernelspec": {
   "display_name": "Python 3",
   "language": "python",
   "name": "python3"
  },
  "language_info": {
   "codemirror_mode": {
    "name": "ipython",
    "version": 2
   },
   "file_extension": ".py",
   "mimetype": "text/x-python",
   "name": "python",
   "nbconvert_exporter": "python",
   "pygments_lexer": "ipython2",
   "version": "2.7.6"
  }
 },
 "nbformat": 4,
 "nbformat_minor": 5
}
